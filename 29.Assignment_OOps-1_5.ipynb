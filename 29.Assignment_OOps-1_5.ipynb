{
 "cells": [
  {
   "cell_type": "code",
   "execution_count": null,
   "id": "41863fcd-ec95-49cb-b686-fb4751d5358e",
   "metadata": {},
   "outputs": [],
   "source": [
    "# Q1. Explain Class and Object with respect to Object-Oriented Programming. Give a suitable example."
   ]
  },
  {
   "cell_type": "code",
   "execution_count": 14,
   "id": "5e963fec-e029-4456-8e90-3a3b497e04a3",
   "metadata": {},
   "outputs": [],
   "source": [
    "# In object-oriented programming (OOP), a class is a blueprint for creating objects, while an object is an instance of a class. \n",
    "# Classes define the properties (attributes) and behaviors (methods) that objects of that class will have.\n",
    "\n",
    "class pwskills:\n",
    "    def __init__(self, name,roll_number,email_id):\n",
    "        self.name1=name\n",
    "        self.roll_number1=roll_number\n",
    "        self.email_id1=email_id\n",
    "        \n",
    "        \n",
    "    def return_student_details(self):\n",
    "               return self.name1,self.roll_number1,self.email_id1\n",
    "            \n",
    "        \n",
    "\n"
   ]
  },
  {
   "cell_type": "code",
   "execution_count": 15,
   "id": "2f06e802-3019-4f54-bc7e-3a2083b1b031",
   "metadata": {},
   "outputs": [],
   "source": [
    "object_of_class=pwskills(\"sukanya\",987970,\"sukanya@gmail.com\")"
   ]
  },
  {
   "cell_type": "code",
   "execution_count": 16,
   "id": "075f7049-0584-40fa-83d0-b8b17edcc520",
   "metadata": {},
   "outputs": [
    {
     "data": {
      "text/plain": [
       "('sukanya', 987970, 'sukanya@gmail.com')"
      ]
     },
     "execution_count": 16,
     "metadata": {},
     "output_type": "execute_result"
    }
   ],
   "source": [
    "object_of_class.return_student_details()"
   ]
  },
  {
   "cell_type": "code",
   "execution_count": 17,
   "id": "6d425530-1bb0-416a-b27e-a34ba6045ec0",
   "metadata": {},
   "outputs": [],
   "source": [
    "#Q2. Name the four pillars of OOPs."
   ]
  },
  {
   "cell_type": "code",
   "execution_count": 18,
   "id": "e5ae6a4e-1aee-4cdf-9006-c8a6fd95c409",
   "metadata": {},
   "outputs": [],
   "source": [
    "# The four pillars of object-oriented programming (OOP) are:\n",
    "#    1. Encapsulation: Encapsulation refers to the bundling of data (attributes) and \n",
    "#     methods (behaviors) that operate on the data into a single unit, called a class.\n",
    "#     It hides the internal state of an object from the outside world and only exposes t\n",
    "#     he necessary functionalities through well-defined interfaces. \n",
    "#     Encapsulation helps in data hiding, abstraction, and modularity, enhancing the maintainability and security of the code.\n",
    "#    2.Inheritance: Inheritance is a mechanism where a new class (subclass or derived class) can inherit attributes and \n",
    "#   methods from an existing class (superclass or base class).\n",
    "#   It promotes code reusability by allowing the subclass to access and extend the functionalities of the superclass. \n",
    "#   Subclasses can override methods of the superclass to provide specialized implementations while inheriting common behaviors.\n",
    "#   Inheritance facilitates the creation of hierarchical relationships among classes, promoting code organization and scalability.\n",
    "#    3.Polymorphism: Polymorphism, derived from Greek words meaning \"many forms,\" allows objects of different classes to be treated as objects of a common superclass.\n",
    "#     It enables the same interface (method name) to be used for different data types or classes, resulting in code that can work with objects of multiple types. \n",
    "#     Polymorphism is achieved through method overriding (where a subclass provides its own implementation of a method inherited from the superclass) and\n",
    "#     method overloading (where multiple methods with the same name but different parameters are defined within a class). \n",
    "#     Polymorphism enhances code flexibility, extensibility, and maintainability.\n",
    "\n",
    "    \n",
    "#    4.Abstraction: Abstraction is the process of simplifying complex systems by hiding unnecessary details while exposing only essential features.\n",
    "# It focuses on what an object does rather than how it does it, providing a high-level view of the system's functionality. \n",
    "# Abstraction allows programmers to model real-world entities as classes with well-defined interfaces,\n",
    "# abstracting away the implementation details.\n",
    "# It promotes code readability, reusability, and \n",
    "# scalability by separating the conceptual model from the implementation details, making the code more understandable and maintainable.\n",
    "\n",
    "# These four pillars—encapsulation, inheritance, polymorphism, and abstraction—form the foundation of object-oriented programming paradigms, \n",
    "# guiding the design, implementation, and maintenance of software systems.\n",
    "\n",
    "    "
   ]
  },
  {
   "cell_type": "code",
   "execution_count": 19,
   "id": "57fcec68-aadd-4ae5-b24f-d4412e6a1745",
   "metadata": {},
   "outputs": [],
   "source": [
    "# Q3. Explain why the __init__() function is used. Give a suitable example."
   ]
  },
  {
   "cell_type": "code",
   "execution_count": 20,
   "id": "fbc332ea-7a49-488b-b834-9822b37b1e66",
   "metadata": {},
   "outputs": [],
   "source": [
    "\n",
    "\n",
    "# The __init__() function in Python is a special method (also known as a constructor) that is \n",
    "# automatically called when a new instance of a class is created. \n",
    "# It is used to initialize the attributes of the newly created object.\n",
    "\n",
    "\n",
    "\n",
    "\n",
    "\n",
    "\n",
    "\n",
    "class bank_account:\n",
    "    def __init__(self , balance):\n",
    "        self.__balance1=balance\n",
    "        \n",
    "    def deposite(self , amount):\n",
    "        self.__balance1=self.__balance1 + amount\n",
    "        \n",
    "    def withdaw(self , amount):\n",
    "        if self.__balance1 >=amount :\n",
    "            self.__balance1=self.__balance1 - amount\n",
    "            return True\n",
    "        else :\n",
    "            return False\n",
    "        \n",
    "    def get_balance(self):\n",
    "        return self.__balance1\n",
    "    "
   ]
  },
  {
   "cell_type": "code",
   "execution_count": 25,
   "id": "aa49b5e8-25e9-4ae3-a040-d9e50a5047f9",
   "metadata": {},
   "outputs": [],
   "source": [
    "object_rahul=bank_account(8000)"
   ]
  },
  {
   "cell_type": "code",
   "execution_count": 26,
   "id": "441e2be3-4ab1-4aab-9bd8-fd756bb166e6",
   "metadata": {},
   "outputs": [
    {
     "data": {
      "text/plain": [
       "8000"
      ]
     },
     "execution_count": 26,
     "metadata": {},
     "output_type": "execute_result"
    }
   ],
   "source": [
    "object_rahul.get_balance()"
   ]
  },
  {
   "cell_type": "code",
   "execution_count": 28,
   "id": "e9d20cf5-8e9c-45ba-8ca4-43905a921d2c",
   "metadata": {},
   "outputs": [],
   "source": [
    "object_rahul.deposite(10000)"
   ]
  },
  {
   "cell_type": "code",
   "execution_count": 29,
   "id": "e83e6305-f839-4928-8ad0-93e127211d18",
   "metadata": {},
   "outputs": [
    {
     "data": {
      "text/plain": [
       "18000"
      ]
     },
     "execution_count": 29,
     "metadata": {},
     "output_type": "execute_result"
    }
   ],
   "source": [
    "object_rahul.get_balance()"
   ]
  },
  {
   "cell_type": "code",
   "execution_count": 31,
   "id": "0e0cdd3e-d536-4b6c-843d-22c3a7e6ebf6",
   "metadata": {},
   "outputs": [
    {
     "data": {
      "text/plain": [
       "True"
      ]
     },
     "execution_count": 31,
     "metadata": {},
     "output_type": "execute_result"
    }
   ],
   "source": [
    "object_rahul.withdaw(3000)"
   ]
  },
  {
   "cell_type": "code",
   "execution_count": 32,
   "id": "ddbf1cc3-766c-4bfa-9df6-1e90af215e5b",
   "metadata": {},
   "outputs": [
    {
     "data": {
      "text/plain": [
       "15000"
      ]
     },
     "execution_count": 32,
     "metadata": {},
     "output_type": "execute_result"
    }
   ],
   "source": [
    "object_rahul.get_balance()"
   ]
  },
  {
   "cell_type": "code",
   "execution_count": 33,
   "id": "c5b1c65a-876d-417e-9b5a-b32f06f99782",
   "metadata": {},
   "outputs": [],
   "source": [
    "#Q4. Why self is used in OOPs?"
   ]
  },
  {
   "cell_type": "code",
   "execution_count": 35,
   "id": "8cac497f-0f3d-448e-8efd-1b43a21fa91d",
   "metadata": {},
   "outputs": [],
   "source": [
    "# In object-oriented programming (OOP), self is a reference to the current instance of a class. It is a convention used in Python (and some other object-oriented languages) to refer to the instance variables and methods within a class.\n",
    "\n",
    "# Purpose of self:\n",
    "# Accessing Instance Variables: Inside a class, self is used to access instance variables (attributes) belonging to the current object. It distinguishes between the instance variables of the current object and local variables or parameters with the same name.\n",
    "\n",
    "# Calling Instance Methods: self is also used to call other methods within the class. When a method is called using self.method_name(), it operates on the current instance of the class, allowing it to access and manipulate instance variables.\n",
    "\n",
    "# Passing the Instance Itself: When a method is called on an object, Python automatically passes the object itself as the first argument to the method. By convention, this first parameter is named self, but you can name it differently if you prefer (although it's not recommended for readability and consistency).\n",
    "# Example:-\n",
    "\n",
    "class bank_account:\n",
    "    def __init__(self , balance):\n",
    "        self.__balance1=balance\n",
    "        \n",
    "    def deposite(self , amount):\n",
    "        self.__balance1=self.__balance1 + amount\n",
    "        \n",
    "    def withdaw(self , amount):\n",
    "        if self.__balance1 >=amount :\n",
    "            self.__balance1=self.__balance1 - amount\n",
    "            return True\n",
    "        else :\n",
    "            return False\n",
    "        \n",
    "    def get_balance(self):\n",
    "        return self.__balance1\n",
    "    "
   ]
  },
  {
   "cell_type": "code",
   "execution_count": 37,
   "id": "da3be63c-5b60-4c60-b443-63b14c325d66",
   "metadata": {},
   "outputs": [],
   "source": [
    "#Q5. What is inheritance? Give an example for each type of inheritance.\n",
    "# Inheritance is a fundamental concept in object-oriented programming (OOP) that allows classes to inherit attributes and methods from other classes. \n",
    "# This promotes code reuse and enables the creation of hierarchies of classes with shared behavior.\n",
    "# Single Inheritance: A subclass inherits from only one superclass.\n",
    "# Multiple Inheritance: A subclass inherits from multiple superclasses.\n",
    "# Multilevel Inheritance: A subclass inherits from another subclass, creating a chain of inheritance.\n",
    "# Hierarchical Inheritance: Multiple subclasses inherit from the same superclass.\n",
    "\n",
    "# Single Inheritance:\n",
    "class Animal:\n",
    "    def sound(self):\n",
    "        print(\"Animal makes a sound\")\n",
    "class Dog(Animal):\n",
    "    def brak(self):\n",
    "        print(\"Dog brake\")\n",
    "        \n",
    "        \n",
    "        \n",
    "\n",
    "\n",
    "\n"
   ]
  },
  {
   "cell_type": "code",
   "execution_count": 38,
   "id": "2aaa29a8-4e8c-483a-94b8-b0703a7ebf2d",
   "metadata": {},
   "outputs": [],
   "source": [
    "dog=Dog()"
   ]
  },
  {
   "cell_type": "code",
   "execution_count": 39,
   "id": "629a3d82-82c9-434d-93c5-b8b83a9ac9f1",
   "metadata": {},
   "outputs": [
    {
     "name": "stdout",
     "output_type": "stream",
     "text": [
      "Animal makes a sound\n"
     ]
    }
   ],
   "source": [
    "dog.sound()"
   ]
  },
  {
   "cell_type": "code",
   "execution_count": 40,
   "id": "af3b3682-0d06-4e6b-bb73-2f6fe206c009",
   "metadata": {},
   "outputs": [
    {
     "name": "stdout",
     "output_type": "stream",
     "text": [
      "Dog brake\n"
     ]
    }
   ],
   "source": [
    "dog.brak()"
   ]
  },
  {
   "cell_type": "code",
   "execution_count": 44,
   "id": "02dce052-1c47-4eea-93de-da93fd154d4c",
   "metadata": {},
   "outputs": [],
   "source": [
    "# Multiple Inheritance:\n",
    "\n",
    "class flyable:\n",
    "    def fly(self):\n",
    "        print(\"flying the birds\")\n",
    "        \n",
    "class bird:\n",
    "    def sound(self):\n",
    "        print(\"bird chirps\")\n",
    "                \n",
    "                \n",
    "class sparrow(bird,flyable):\n",
    "    pass\n",
    "                \n"
   ]
  },
  {
   "cell_type": "code",
   "execution_count": 45,
   "id": "a7323e59-ae6b-4bce-ac20-8abde3d1470d",
   "metadata": {},
   "outputs": [],
   "source": [
    "sparrow_object=sparrow()"
   ]
  },
  {
   "cell_type": "code",
   "execution_count": 46,
   "id": "cb985568-a531-4aa2-b733-1d5273e38424",
   "metadata": {},
   "outputs": [
    {
     "name": "stdout",
     "output_type": "stream",
     "text": [
      "bird chirps\n"
     ]
    }
   ],
   "source": [
    "sparrow_object.sound()"
   ]
  },
  {
   "cell_type": "code",
   "execution_count": 47,
   "id": "04513a2d-abd5-4655-bbc8-774949cad331",
   "metadata": {},
   "outputs": [
    {
     "name": "stdout",
     "output_type": "stream",
     "text": [
      "flying the birds\n"
     ]
    }
   ],
   "source": [
    "sparrow_object.fly()"
   ]
  },
  {
   "cell_type": "code",
   "execution_count": 27,
   "id": "b4cbd6c1-b406-4d87-bcdb-13078d0095a0",
   "metadata": {},
   "outputs": [],
   "source": [
    "# 3. Multilevel Inheritance:\n",
    "class Animal:\n",
    "    def sound(self):\n",
    "        print(\"Animal the birds\")\n",
    "class Dog(Animal):\n",
    "    def breaku(self):\n",
    "        print(\" dog breack \")\n",
    "        \n",
    "class sparrow(Dog):\n",
    "    def flying(self):\n",
    "        print(\"flying bird \")\n",
    "            \n",
    "class dangerou(sparrow):\n",
    "    def tiger(self):\n",
    "        print(\"jhbajdbfh ljndkjfbkje\")\n",
    "    \n",
    "    \n",
    "\n",
    "\n"
   ]
  },
  {
   "cell_type": "code",
   "execution_count": 15,
   "id": "e721e117-8ed0-447f-9862-112d6d8b2fe4",
   "metadata": {},
   "outputs": [],
   "source": [
    "sparrow_object1=dangerou()"
   ]
  },
  {
   "cell_type": "code",
   "execution_count": 16,
   "id": "e3b5abd4-4fe9-4428-9461-546380685c20",
   "metadata": {},
   "outputs": [
    {
     "name": "stdout",
     "output_type": "stream",
     "text": [
      " dog breack \n"
     ]
    }
   ],
   "source": [
    "sparrow_object1.breaku()"
   ]
  },
  {
   "cell_type": "code",
   "execution_count": 17,
   "id": "0be8a23f-537a-43a9-9c05-8b8062213062",
   "metadata": {},
   "outputs": [
    {
     "name": "stdout",
     "output_type": "stream",
     "text": [
      "jhbajdbfh ljndkjfbkje\n"
     ]
    }
   ],
   "source": [
    "sparrow_object1.tiger()"
   ]
  },
  {
   "cell_type": "code",
   "execution_count": 19,
   "id": "42d4c8c5-86ba-4653-b256-ea6e418144f3",
   "metadata": {},
   "outputs": [
    {
     "name": "stdout",
     "output_type": "stream",
     "text": [
      "Animal the birds\n"
     ]
    }
   ],
   "source": [
    "sparrow_object1.sound()"
   ]
  },
  {
   "cell_type": "code",
   "execution_count": 20,
   "id": "4539cc8a-c643-414d-9817-949cca781e22",
   "metadata": {},
   "outputs": [],
   "source": [
    "sparrow_object2=sparrow()"
   ]
  },
  {
   "cell_type": "code",
   "execution_count": 22,
   "id": "78a79dfc-c6a2-4895-916f-68b18fea2d34",
   "metadata": {},
   "outputs": [
    {
     "name": "stdout",
     "output_type": "stream",
     "text": [
      "flying bird \n"
     ]
    }
   ],
   "source": [
    "sparrow_object2.flying()"
   ]
  },
  {
   "cell_type": "code",
   "execution_count": 23,
   "id": "51118971-11aa-4702-80b1-84d2ee67224e",
   "metadata": {},
   "outputs": [
    {
     "name": "stdout",
     "output_type": "stream",
     "text": [
      " dog breack \n"
     ]
    }
   ],
   "source": [
    "sparrow_object2.breaku()"
   ]
  },
  {
   "cell_type": "code",
   "execution_count": 24,
   "id": "c33b9f3f-3012-4b92-b899-98f024fc9c5d",
   "metadata": {},
   "outputs": [
    {
     "name": "stdout",
     "output_type": "stream",
     "text": [
      "Animal the birds\n"
     ]
    }
   ],
   "source": [
    "sparrow_object2.sound()"
   ]
  },
  {
   "cell_type": "code",
   "execution_count": 11,
   "id": "40287111-534d-4be7-8ea4-9a49d75b37ec",
   "metadata": {},
   "outputs": [],
   "source": [
    "sparrow_object2=dangerou()"
   ]
  },
  {
   "cell_type": "code",
   "execution_count": 12,
   "id": "82edc91a-3d7f-4827-a216-75c568322148",
   "metadata": {},
   "outputs": [
    {
     "name": "stdout",
     "output_type": "stream",
     "text": [
      "jhbajdbfh ljndkjfbkje\n"
     ]
    }
   ],
   "source": [
    "sparrow_object2.tiger()"
   ]
  },
  {
   "cell_type": "code",
   "execution_count": 1,
   "id": "f6752826-5b4c-4d54-a5cd-a9619f40515e",
   "metadata": {},
   "outputs": [],
   "source": [
    "# 3. Multilevel Inheritance:\n",
    "class Animal:\n",
    "    def sound(self):\n",
    "        print(\"Animal the birds\")\n",
    "class Dog(Animal):\n",
    "    def breaku(self):\n",
    "        print(\" dog breack \")\n",
    "        \n",
    "class sparrow(Animal):\n",
    "    def flying(self):\n",
    "        print(\"flying bird \")\n",
    "            \n",
    "class dangerou(Animal):\n",
    "    def tiger(self):\n",
    "        print(\"jhbajdbfh ljndkjfbkje\")\n",
    "    "
   ]
  },
  {
   "cell_type": "code",
   "execution_count": 2,
   "id": "de2e204a-08d3-43b0-b7c4-a454750bf991",
   "metadata": {},
   "outputs": [],
   "source": [
    "object_sparrow=sparrow()"
   ]
  },
  {
   "cell_type": "code",
   "execution_count": 3,
   "id": "18bc87f7-9b54-49ed-95e0-7c97efbff2f6",
   "metadata": {},
   "outputs": [
    {
     "name": "stdout",
     "output_type": "stream",
     "text": [
      "flying bird \n"
     ]
    }
   ],
   "source": [
    "object_sparrow.flying()"
   ]
  },
  {
   "cell_type": "code",
   "execution_count": 5,
   "id": "6f145da3-42c7-438e-9402-95c826c5b800",
   "metadata": {},
   "outputs": [],
   "source": [
    "object_sparrow=Dog()"
   ]
  },
  {
   "cell_type": "code",
   "execution_count": 6,
   "id": "2d5f1a28-1d45-40eb-8c4c-e108fc3c0872",
   "metadata": {},
   "outputs": [
    {
     "name": "stdout",
     "output_type": "stream",
     "text": [
      " dog breack \n"
     ]
    }
   ],
   "source": [
    "object_sparrow.breaku()"
   ]
  },
  {
   "cell_type": "code",
   "execution_count": 7,
   "id": "ac140c36-de31-41ee-9ced-6a1a51ad6bb1",
   "metadata": {},
   "outputs": [],
   "source": [
    "object_sparrow=Animal()"
   ]
  },
  {
   "cell_type": "code",
   "execution_count": 8,
   "id": "1f3458a8-8099-4e24-a802-34b6c9a3c74e",
   "metadata": {},
   "outputs": [
    {
     "name": "stdout",
     "output_type": "stream",
     "text": [
      "Animal the birds\n"
     ]
    }
   ],
   "source": [
    "object_sparrow.sound()"
   ]
  },
  {
   "cell_type": "code",
   "execution_count": 9,
   "id": "cbe2d9be-a828-4ccf-b063-f300442f3dbc",
   "metadata": {},
   "outputs": [],
   "source": [
    "object_sparrow=dangerou()"
   ]
  },
  {
   "cell_type": "code",
   "execution_count": 10,
   "id": "34120555-56b6-40e9-8f64-0b5826f1af1c",
   "metadata": {},
   "outputs": [
    {
     "name": "stdout",
     "output_type": "stream",
     "text": [
      "jhbajdbfh ljndkjfbkje\n"
     ]
    }
   ],
   "source": [
    "object_sparrow.tiger()"
   ]
  },
  {
   "cell_type": "code",
   "execution_count": null,
   "id": "85a71181-30af-497c-981a-fcb1cfe1ecc2",
   "metadata": {},
   "outputs": [],
   "source": []
  }
 ],
 "metadata": {
  "kernelspec": {
   "display_name": "Python 3 (ipykernel)",
   "language": "python",
   "name": "python3"
  },
  "language_info": {
   "codemirror_mode": {
    "name": "ipython",
    "version": 3
   },
   "file_extension": ".py",
   "mimetype": "text/x-python",
   "name": "python",
   "nbconvert_exporter": "python",
   "pygments_lexer": "ipython3",
   "version": "3.10.8"
  }
 },
 "nbformat": 4,
 "nbformat_minor": 5
}
