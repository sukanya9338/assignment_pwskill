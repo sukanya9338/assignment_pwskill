{
 "cells": [
  {
   "cell_type": "code",
   "execution_count": 15,
   "id": "327ed02f-cb75-4ef2-a71a-bfb07c1c0394",
   "metadata": {},
   "outputs": [],
   "source": [
    "# Q1. What is Abstraction in OOps? Explain with an example.\n",
    "    \n",
    "    # Abstraction in object-oriented programming (OOP) is the process of hiding the implementation details\n",
    "    # of a class while exposing a simplified interface to the user. \n",
    "    # It focuses on what an object does rather than how it does it. Abstraction allows developers to deal \n",
    "    # with the complexity of a system by providing a high-level view of the functionality, \n",
    "    # hiding the unnecessary details from the user.\n",
    "\n",
    "    # Key Concepts of Abstraction:\n",
    "    #     Hiding Implementation Details: \n",
    "    #     Defining Interfaces\n",
    "    #     Focus on What, Not How\n",
    "    \n",
    "    "
   ]
  },
  {
   "cell_type": "code",
   "execution_count": 27,
   "id": "f5d7bbab-8c11-49fb-a9ff-088a60af1eda",
   "metadata": {},
   "outputs": [],
   "source": [
    "from abc import ABC, abstractmethod\n",
    "\n",
    "class Shape(ABC):\n",
    "    @abstractmethod\n",
    "    def area(self):\n",
    "        pass\n",
    "\n",
    "    @abstractmethod\n",
    "    def perimeter(self):\n",
    "        pass\n",
    "\n",
    "class Rectangle(Shape):\n",
    "    def __init__(self, width, height):\n",
    "        self.width = width\n",
    "        self.height = height\n",
    "\n",
    "    def area(self):\n",
    "        return self.width * self.height\n",
    "\n",
    "    def perimeter(self):\n",
    "        return 2 * (self.width + self.height)\n",
    "\n",
    "class Circle(Shape):\n",
    "    def __init__(self, radius):\n",
    "        self.radius = radius\n",
    "\n",
    "    def area(self):\n",
    "        return 3.14 * self.radius * self.radius\n",
    "\n",
    "    def perimeter(self):\n",
    "        return 2 * 3.14 * self.radius"
   ]
  },
  {
   "cell_type": "code",
   "execution_count": 28,
   "id": "51a52d3f-f84c-4391-920f-f718d6aac2c9",
   "metadata": {},
   "outputs": [],
   "source": [
    "object_rectangle1=Rectangle(89,65)"
   ]
  },
  {
   "cell_type": "code",
   "execution_count": 17,
   "id": "b5b740ac-4937-413d-9267-c9b4728b2067",
   "metadata": {},
   "outputs": [
    {
     "data": {
      "text/plain": [
       "5785"
      ]
     },
     "execution_count": 17,
     "metadata": {},
     "output_type": "execute_result"
    }
   ],
   "source": [
    "object_rectangle1.area()"
   ]
  },
  {
   "cell_type": "code",
   "execution_count": 18,
   "id": "7a150b47-263c-428c-aef1-75a18316613e",
   "metadata": {},
   "outputs": [
    {
     "data": {
      "text/plain": [
       "308"
      ]
     },
     "execution_count": 18,
     "metadata": {},
     "output_type": "execute_result"
    }
   ],
   "source": [
    "object_rectangle1.perimeter()"
   ]
  },
  {
   "cell_type": "code",
   "execution_count": 20,
   "id": "6f480df8-0e83-4f4b-a7ba-578b57f24d2a",
   "metadata": {},
   "outputs": [],
   "source": [
    "object_rectangle1=Circle(56)"
   ]
  },
  {
   "cell_type": "code",
   "execution_count": 21,
   "id": "e22e3e51-04e2-4d51-a3e9-ef535efa8f83",
   "metadata": {},
   "outputs": [
    {
     "data": {
      "text/plain": [
       "9847.04"
      ]
     },
     "execution_count": 21,
     "metadata": {},
     "output_type": "execute_result"
    }
   ],
   "source": [
    "object_rectangle1.area()"
   ]
  },
  {
   "cell_type": "code",
   "execution_count": 22,
   "id": "b0b2b724-4a1c-4766-9f46-06957f5fca97",
   "metadata": {},
   "outputs": [
    {
     "data": {
      "text/plain": [
       "351.68"
      ]
     },
     "execution_count": 22,
     "metadata": {},
     "output_type": "execute_result"
    }
   ],
   "source": [
    "object_rectangle1.perimeter()"
   ]
  },
  {
   "cell_type": "code",
   "execution_count": 23,
   "id": "2eb6f389-16b4-4cdd-bc57-9dfb266e30a3",
   "metadata": {},
   "outputs": [],
   "source": [
    "# 2.Differentiate between Abstraction and Encapsulation. Explain with an example."
   ]
  },
  {
   "cell_type": "code",
   "execution_count": 24,
   "id": "b2d0804d-5a7a-47f4-8874-50a52345f56c",
   "metadata": {},
   "outputs": [],
   "source": [
    "# Abstraction and encapsulation are both key concepts in object-oriented programming (OOP), \n",
    "# but they serve different purposes and focus on different aspects of software design.\n",
    "\n",
    "# Abstraction:\n",
    "# Abstraction is the process of hiding the complex implementation details and showing only the necessary features of an object to the outside world. It allows us to focus on what an object does, rather than how it does it. Abstraction defines clear interfaces and behaviors for objects, abstracting away the implementation details.\n",
    "\n",
    "# Encapsulation:\n",
    "# Encapsulation is the bundling of data (attributes) and methods (behaviors) that operate on the data into a single unit, called a class. It hides the internal state of an object from the outside world and only exposes the necessary functionalities through well-defined interfaces. Encapsulation helps in data hiding, abstraction, and modularity, enhancing the maintainability and security of the code.\n",
    "\n",
    "# Differences:\n",
    "# Focus:\n",
    "\n",
    "# Abstraction focuses on providing a simplified view of objects by hiding implementation details and exposing only essential features.\n",
    "# Encapsulation focuses on bundling data and methods into a single unit and controlling access to the internal state of objects.\n",
    "# Purpose:\n",
    "\n",
    "# Abstraction simplifies the complexity of a system by providing a high-level view of functionality, \n",
    "# hiding unnecessary details from users.\n",
    "# Encapsulation enhances data security and maintainability by hiding implementation details and exposing only the necessary functionalities.\n",
    "# Example:\n",
    "# Let's consider a class Car to illustrate the concepts of abstraction and encapsulation:\n",
    "\n",
    "# python\n",
    "# Copy code\n",
    "# class Car:\n",
    "#     def __init__(self, make, model, year):\n",
    "#         self._make = make  # Encapsulation: Data hiding using underscore\n",
    "#         self._model = model\n",
    "#         self._year = year\n",
    "\n",
    "#     def start(self):  # Abstraction: Exposing only necessary functionalities\n",
    "#         print(f\"{self._make} {self._model} {self._year} started.\")\n",
    "\n",
    "#     def stop(self):\n",
    "#         print(f\"{self._make} {self._model} {self._year} stopped.\")\n",
    "# In this example:\n",
    "\n",
    "# Encapsulation is achieved by encapsulating the data (make, model, year) and methods (start, stop) within the Car class. \n",
    "# The attributes are prefixed with an underscore _ to indicate that they are intended to be private.\n",
    "# Abstraction is demonstrated by providing a simplified interface to interact with the Car class. \n",
    "# Users only need to call the start() and stop() methods to start and stop the car without needing to know the internal implementation details."
   ]
  },
  {
   "cell_type": "code",
   "execution_count": 25,
   "id": "20a88aee-cfdc-40bd-b945-49dee742b7e0",
   "metadata": {},
   "outputs": [],
   "source": [
    "# 3.What is abc module in python? Why is it used?\n",
    "\n",
    "# The abc module in Python stands for \"Abstract Base Classes.\" It provides tools for working with abstract classes and methods, \n",
    "# which are classes and methods that are defined but not implemented in the base class. \n",
    "# Abstract classes cannot be instantiated directly; they serve as templates for concrete subclasses to inherit \n",
    "\n",
    "\n",
    "# Purpose of the abc Module:\n",
    "# Defining Abstract Base Classes (ABCs): \n",
    "#     The abc module allows you to define abstract base classes using the ABC class and the @abstractmethod decorator. \n",
    "#     Abstract base classes can define abstract methods that must be implemented by concrete subclasses. \n",
    "# his enforces a specific interface for subclasses to follow.\n",
    "\n",
    "# Enforcing Interface Contracts: Abstract base classes help enforce interface contracts in Python. \n",
    "# They provide a way to specify a set of methods that subclasses must implement. \n",
    "# If a subclass fails to implement any of the abstract methods defined in the base class, \n",
    "# Python will raise an error at runtime, making it easier to catch bugs and ensure consistency.\n",
    "\n",
    "# Promoting Code Clarity and Reusability: By defining abstract base classes, \n",
    "# developers can communicate the expected interface and behavior of subclasses more clearly.\n",
    "# This promotes code clarity and reusability, as subclasses can inherit common behavior and implement only the specific functionality they need."
   ]
  },
  {
   "cell_type": "code",
   "execution_count": 26,
   "id": "76a382be-8fa9-4a86-807b-56799781c83b",
   "metadata": {},
   "outputs": [],
   "source": [
    "# Q4. How can we achieve data abstraction?\n",
    "\n",
    "# Data abstraction in object-oriented programming refers to the process of hiding the implementation details of data while exposing only \n",
    "# the necessary features or behaviors to the outside world. \n",
    "# This allows users to interact with the data using well-defined interfaces without needing to understand how the data is implemented internally.\n",
    "\n",
    "# In Python, we can achieve data abstraction using classes and access modifiers like underscores (_) to control access to attributes and methods. \n",
    "# Here's how we can achieve data abstraction:\n",
    "\n",
    "# 1. Define a Class:\n",
    "# Start by defining a class that represents the abstract data type. This class will encapsulate the data and methods associated with it.\n",
    "\n",
    "\n",
    "# class AbstractDataType:\n",
    "#     def __init__(self):\n",
    "#         self._data = None  # Encapsulated data\n",
    "        \n",
    "# 2. Define Methods:\n",
    "# Define methods within the class to manipulate the data. \n",
    "# These methods will serve as the interface through which users interact with the data.\n",
    "\n",
    "# class AbstractDataType:\n",
    "#     def __init__(self):\n",
    "#         self._data = None  # Encapsulated data\n",
    "    \n",
    "#     def set_data(self, data):\n",
    "#         # Perform any necessary validation or processing\n",
    "#         self._data = data\n",
    "    \n",
    "#     def get_data(self):\n",
    "#         return self._data\n",
    "    \n",
    "#     3. Access Control:\n",
    "# Use access modifiers like underscores (_) to indicate that certain attributes or methods are intended to be private. \n",
    "# This discourages direct access from outside the class and encourages users to interact with the data through the defined interface.\n",
    "\n",
    "# class AbstractDataType:\n",
    "#     def __init__(self):\n",
    "#         self._data = None  # Encapsulated data\n",
    "    \n",
    "#     def set_data(self, data):\n",
    "#         # Perform any necessary validation or processing\n",
    "#         self._data = data\n",
    "    \n",
    "#     def get_data(self):\n",
    "#         return self._data\n",
    "    \n",
    "    \n",
    "    \n",
    "#     adt = AbstractDataType()\n",
    "# adt.set_data(10)\n",
    "# print(adt.get_data())  # Output: 10\n",
    "\n"
   ]
  },
  {
   "cell_type": "code",
   "execution_count": 29,
   "id": "fb22616d-3084-42ec-bd8b-6cc2e6f1a0b2",
   "metadata": {},
   "outputs": [],
   "source": [
    "\n",
    "# Q5. Can we create an instance of an abstract class? Explain your answer.\n",
    "\n",
    "\n",
    "# In Python, you can technically create an instance of an abstract class, but it will raise a TypeError when you try to instantiate it. \n",
    "# Abstract classes in Python are meant to be used as base classes for other classes and are not meant to be instantiated directly.\n",
    "\n",
    "# Abstract classes are defined using the abc module, and they typically contain one or more abstract methods. \n",
    "# An abstract method is a method declared in the abstract class but doesn't have any implementation in the abstract class itself. \n",
    "# Instead, it must be implemented by the subclasses that inherit from the abstract class.\n",
    "\n",
    "\n"
   ]
  },
  {
   "cell_type": "code",
   "execution_count": 33,
   "id": "bdf88788-2dfa-4896-8818-53211c9243f4",
   "metadata": {},
   "outputs": [],
   "source": [
    "from abc import ABC, abstractmethod\n",
    "\n",
    "class Shape(ABC):\n",
    "    @abstractmethod\n",
    "    def area(self):\n",
    "        pass\n",
    "\n",
    "    @abstractmethod\n",
    "    def perimeter(self):\n",
    "        pass\n",
    "\n",
    "class Rectangle(Shape):\n",
    "    def __init__(self, width, height):\n",
    "        self.width = width\n",
    "        self.height = height\n",
    "\n",
    "    def area(self):\n",
    "        return self.width * self.height\n",
    "\n",
    "    def perimeter(self):\n",
    "        return 2 * (self.width + self.height)\n",
    "\n",
    "class Circle(Shape):\n",
    "    def __init__(self, radius):\n",
    "        self.radius = radius\n",
    "\n",
    "    def area(self):\n",
    "        return 3.14 * self.radius * self.radius\n",
    "\n",
    "    def perimeter(self):\n",
    "        return 2 * 3.14 * self.radius"
   ]
  },
  {
   "cell_type": "code",
   "execution_count": 31,
   "id": "6960146b-3822-486e-a7d1-2b6cdd13173c",
   "metadata": {},
   "outputs": [],
   "source": [
    "object_rectangle1=Rectangle(89,65)"
   ]
  },
  {
   "cell_type": "code",
   "execution_count": 32,
   "id": "f0b0524f-87cd-40ef-b788-cb51f898e09b",
   "metadata": {},
   "outputs": [
    {
     "data": {
      "text/plain": [
       "5785"
      ]
     },
     "execution_count": 32,
     "metadata": {},
     "output_type": "execute_result"
    }
   ],
   "source": [
    "object_rectangle1.area()"
   ]
  },
  {
   "cell_type": "code",
   "execution_count": 34,
   "id": "deb6128d-00f3-4fd2-aed0-33dbac1cf852",
   "metadata": {},
   "outputs": [
    {
     "data": {
      "text/plain": [
       "308"
      ]
     },
     "execution_count": 34,
     "metadata": {},
     "output_type": "execute_result"
    }
   ],
   "source": [
    "object_rectangle1.perimeter()"
   ]
  },
  {
   "cell_type": "code",
   "execution_count": 35,
   "id": "5d51ed97-571b-473f-9ed7-d1a663adb14e",
   "metadata": {},
   "outputs": [],
   "source": [
    "object_rectangle1=Circle(45)"
   ]
  },
  {
   "cell_type": "code",
   "execution_count": 36,
   "id": "e846740e-03a3-4b84-b664-13e706b48193",
   "metadata": {},
   "outputs": [
    {
     "data": {
      "text/plain": [
       "6358.500000000001"
      ]
     },
     "execution_count": 36,
     "metadata": {},
     "output_type": "execute_result"
    }
   ],
   "source": [
    "object_rectangle1.area()"
   ]
  },
  {
   "cell_type": "code",
   "execution_count": 37,
   "id": "56e64f39-2957-48fc-b5bb-509a001e7521",
   "metadata": {},
   "outputs": [
    {
     "data": {
      "text/plain": [
       "282.6"
      ]
     },
     "execution_count": 37,
     "metadata": {},
     "output_type": "execute_result"
    }
   ],
   "source": [
    "object_rectangle1.perimeter()"
   ]
  },
  {
   "cell_type": "code",
   "execution_count": null,
   "id": "9408e821-a44d-4d8b-a61b-5fa8169b61e2",
   "metadata": {},
   "outputs": [],
   "source": []
  }
 ],
 "metadata": {
  "kernelspec": {
   "display_name": "Python 3 (ipykernel)",
   "language": "python",
   "name": "python3"
  },
  "language_info": {
   "codemirror_mode": {
    "name": "ipython",
    "version": 3
   },
   "file_extension": ".py",
   "mimetype": "text/x-python",
   "name": "python",
   "nbconvert_exporter": "python",
   "pygments_lexer": "ipython3",
   "version": "3.10.8"
  }
 },
 "nbformat": 4,
 "nbformat_minor": 5
}
