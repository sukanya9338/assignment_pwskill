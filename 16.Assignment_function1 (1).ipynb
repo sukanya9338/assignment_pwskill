{
 "cells": [
  {
   "cell_type": "code",
   "execution_count": 1,
   "id": "e6a9ce3f-5b19-4572-9a3c-82e37e928ef8",
   "metadata": {},
   "outputs": [],
   "source": [
    "#Q1. Which keyword is used to create a function? Create a function to return a list of odd numbers in the\n",
    "#range of 1 to 25."
   ]
  },
  {
   "cell_type": "code",
   "execution_count": 56,
   "id": "562efc03-5e36-4767-9385-63da36c3c03d",
   "metadata": {},
   "outputs": [
    {
     "name": "stdout",
     "output_type": "stream",
     "text": [
      "[1, 3, 5, 7, 9, 11, 13, 15, 17, 19, 21, 23, 25]\n"
     ]
    }
   ],
   "source": [
    "def odd_number_find():\n",
    "    \n",
    "    old_new_get = []\n",
    "    \n",
    "    for num in range(1, 26):\n",
    "        if num % 2 !=0:\n",
    "            old_new_get.append(num)\n",
    "            \n",
    "            \n",
    "    return old_new_get\n",
    "        \n",
    "        \n",
    "old_new_data=odd_number_find()\n",
    "    \n",
    "print(old_new_data)\n",
    "        \n",
    "    "
   ]
  },
  {
   "cell_type": "code",
   "execution_count": 57,
   "id": "ea08ccdd-239d-477f-96e2-dfc4af50c4b3",
   "metadata": {},
   "outputs": [],
   "source": [
    "#Q2. Why *args and **kwargs is used in some functions? Create a function each for *args and **kwargs\n",
    "#to demonstrate their use."
   ]
  },
  {
   "cell_type": "code",
   "execution_count": 61,
   "id": "b9adb4fa-5084-4ece-b8bc-937aeb79ca97",
   "metadata": {},
   "outputs": [],
   "source": [
    "def number_new(*args):  # The *args parameter allows us to pass a variable number of positional arguments, which are collected into the args tuple.\n",
    "                          #We then iterate over the elements of args and calculate their sum.\n",
    "        return args\n"
   ]
  },
  {
   "cell_type": "code",
   "execution_count": 60,
   "id": "4f9911a7-adce-4fd4-bfd7-2095d3ea223c",
   "metadata": {},
   "outputs": [
    {
     "data": {
      "text/plain": [
       "(1, 2, 3, 3, 5, 6)"
      ]
     },
     "execution_count": 60,
     "metadata": {},
     "output_type": "execute_result"
    }
   ],
   "source": [
    "number_new(1,2,3,3,5,6)  "
   ]
  },
  {
   "cell_type": "code",
   "execution_count": 62,
   "id": "948ca7f2-a529-41fc-9d86-2d99d6c1e8b0",
   "metadata": {},
   "outputs": [],
   "source": [
    "def number_key_value(**kwargs):\n",
    "    return kwargs"
   ]
  },
  {
   "cell_type": "code",
   "execution_count": 65,
   "id": "5d43164c-be78-404e-a318-b2c1f1435cb1",
   "metadata": {},
   "outputs": [
    {
     "data": {
      "text/plain": [
       "{'a': 56, 'b': 98, 'c': [3, 4, 5, 6, 7], 'd': 89.89, 'e': 'sukanya', 'f': True}"
      ]
     },
     "execution_count": 65,
     "metadata": {},
     "output_type": "execute_result"
    }
   ],
   "source": [
    "number_key_value(a=56,b=98,c=[3,4,5,6,7],d=89.89,e=\"sukanya\",f=True)  #key and value is complesy we used in function # The **kwargs parameter allows us to pass a variable number of keyword arguments, which are collected into the kwargs dictionary.\n",
    "#We iterate over the key-value pairs in kwargs and print each key and its corresponding value.\n",
    "#These constructs are useful when you want to create flexible functions that can accept different numbers of arguments or handle unexpected keyword arguments."
   ]
  },
  {
   "cell_type": "code",
   "execution_count": null,
   "id": "72eb267d-ddc3-42fe-9c21-561b2c551b5b",
   "metadata": {},
   "outputs": [],
   "source": [
    "#Q3. What is an iterator in python? Name the method used to initialise the iterator object and the method\n",
    "#used for iteration. Use these methods to print the first five elements of the given list [2, 4, 6, 8, 10, 12, 14,\n",
    "#16, 18, 20]."
   ]
  },
  {
   "cell_type": "code",
   "execution_count": 73,
   "id": "241affb3-2524-46bf-b9d9-3926d7eea033",
   "metadata": {},
   "outputs": [
    {
     "name": "stdout",
     "output_type": "stream",
     "text": [
      "2\n",
      "4\n",
      "6\n",
      "8\n",
      "10\n"
     ]
    }
   ],
   "source": [
    "new=[2, 4, 6, 8, 10, 12, 14,6, 18, 20] #iterator is an object that implement the protocol ,which consists of two methods:#iter() and next()\n",
    " \n",
    "my_iterator=iter(new)\n",
    "    \n",
    "for i in range(5):\n",
    "        print(next(my_iterator))\n",
    "        \n",
    "        #the built-in iter() function to initialize an iterator object, and then use the next() function to iterate over the elements.\n",
    "\n",
    "    "
   ]
  },
  {
   "cell_type": "code",
   "execution_count": 74,
   "id": "746ebb73-12ad-4e1a-9018-7dc5b35cc9b2",
   "metadata": {},
   "outputs": [],
   "source": [
    "#Q4. What is a generator function in python? Why yield keyword is used? Give an example of a generator function."
   ]
  },
  {
   "cell_type": "code",
   "execution_count": 84,
   "id": "ba89893c-c36c-4bf9-95ca-b2870ce9acf6",
   "metadata": {},
   "outputs": [
    {
     "name": "stdout",
     "output_type": "stream",
     "text": [
      "0\n",
      "2\n",
      "4\n",
      "6\n",
      "8\n",
      "10\n"
     ]
    }
   ],
   "source": [
    "#generate a sequence of values one at a time, rather than storing all values in memory at once. \n",
    "#This can be more memory-efficient and allows for efficient processing of large data streams or infinite sequences.\n",
    "#The yield keyword is used in generator functions to indicate where the generator should \"yield\" control back to the caller, returning a value each time. Unlike a regular function, which returns a value and then exits, a generator function can pause and resume its execution, maintaining its state between calls.\n",
    "\n",
    "def genertor_new():\n",
    "    a=0\n",
    "    while True:\n",
    "        yield a\n",
    "        a+=2\n",
    "        \n",
    "    \n",
    "new_genertor_data=genertor_new()\n",
    "    \n",
    "for i in range(6):\n",
    "    print(next(new_genertor_data))\n",
    "        \n",
    "    "
   ]
  },
  {
   "cell_type": "code",
   "execution_count": 85,
   "id": "dd0ba825-22a6-4109-93cd-eb84e6fde50e",
   "metadata": {},
   "outputs": [],
   "source": [
    "#Q5. Create a generator function for prime numbers less than 1000. Use the next() method to print the\n",
    "#first 20 prime numbers."
   ]
  },
  {
   "cell_type": "code",
   "execution_count": 25,
   "id": "8eda3bc1-e051-4019-9d26-148a24744711",
   "metadata": {},
   "outputs": [
    {
     "name": "stdout",
     "output_type": "stream",
     "text": [
      "73\n",
      "79\n",
      "83\n",
      "89\n",
      "97\n",
      "101\n",
      "103\n",
      "107\n",
      "109\n",
      "113\n",
      "127\n",
      "131\n",
      "137\n",
      "139\n",
      "149\n",
      "151\n",
      "157\n",
      "163\n",
      "167\n",
      "173\n"
     ]
    }
   ],
   "source": [
    "def generate_new_number():\n",
    "    prime_number=[]\n",
    "    i=2\n",
    "    while i<1000:\n",
    "        is_prime=True\n",
    "        for new_prime in prime_number:\n",
    "            if i % new_prime==0:\n",
    "                is_prime=False\n",
    "                break\n",
    "                if is_prime:\n",
    "                    prime_number.append(i)\n",
    "                    yield i\n",
    "                    i+=1\n",
    "                \n",
    "                \n",
    "                \n",
    "prime_genertor = generate_new_number()\n",
    "for _ in range(20):\n",
    "    print(next(prime_generator))\n",
    "    \n",
    "    \n",
    "        \n",
    "        \n",
    "        "
   ]
  },
  {
   "cell_type": "code",
   "execution_count": 26,
   "id": "7f29e91d-b26e-4fe1-847e-c9220c991fbe",
   "metadata": {},
   "outputs": [],
   "source": [
    "#Q6. Write a python program to print the first 10 Fibonacci numbers using a while loop."
   ]
  },
  {
   "cell_type": "code",
   "execution_count": 28,
   "id": "0c14af6d-3cb9-4d06-bbb3-1fcde1157432",
   "metadata": {},
   "outputs": [
    {
     "name": "stdout",
     "output_type": "stream",
     "text": [
      "the first 10 fibonacci number\n",
      "0\n",
      "1\n",
      "1\n",
      "2\n",
      "3\n",
      "5\n",
      "8\n",
      "13\n",
      "21\n",
      "34\n"
     ]
    }
   ],
   "source": [
    "def fibonacci(n):\n",
    "    fib_series=[0,1]\n",
    "    while len(fib_series)< n:\n",
    "        next_fib=fib_series[-1]+fib_series[-2]\n",
    "        fib_series.append(next_fib)\n",
    "    return fib_series\n",
    "fib_number=fibonacci(10)\n",
    "print(\"the first 10 fibonacci number\")\n",
    "for num in fib_number:\n",
    "    print(num)"
   ]
  },
  {
   "cell_type": "code",
   "execution_count": 29,
   "id": "51f12d62-9da8-4dd0-ac43-28f146d4d228",
   "metadata": {},
   "outputs": [],
   "source": [
    "#Q7. Write a List Comprehension to iterate through the given string: ‘pwskills’.\n",
    "#Expected output: ['p', 'w', 's', 'k', 'i', 'l', 'l', 's']"
   ]
  },
  {
   "cell_type": "code",
   "execution_count": 30,
   "id": "9d5428ae-9309-4dba-a3d6-da13ace0499a",
   "metadata": {},
   "outputs": [],
   "source": [
    "s=\"pwskills\""
   ]
  },
  {
   "cell_type": "code",
   "execution_count": 31,
   "id": "115463bf-c860-452e-847c-2b34a28cd8c7",
   "metadata": {},
   "outputs": [
    {
     "data": {
      "text/plain": [
       "['p', 'w', 's', 'k', 'i', 'l', 'l', 's']"
      ]
     },
     "execution_count": 31,
     "metadata": {},
     "output_type": "execute_result"
    }
   ],
   "source": [
    "list(s)"
   ]
  },
  {
   "cell_type": "code",
   "execution_count": 33,
   "id": "ebdb6751-92d5-45b7-b234-2ad32f2b0448",
   "metadata": {},
   "outputs": [
    {
     "name": "stdout",
     "output_type": "stream",
     "text": [
      "['p', 'w', 's', 'k', 'i', 'l', 'l', 's']\n"
     ]
    }
   ],
   "source": [
    "result=[char for char in s] # List comprehension to iterate through the string and create a list of its characters\n",
    "print(result)"
   ]
  },
  {
   "cell_type": "code",
   "execution_count": 34,
   "id": "6f2705c7-d2c7-4a80-8b15-fcc24c835176",
   "metadata": {},
   "outputs": [],
   "source": [
    "#Q8. Write a python program to check whether a given number is Palindrome or not using a while loop."
   ]
  },
  {
   "cell_type": "code",
   "execution_count": 6,
   "id": "3224c8ba-888f-410f-83de-1cbf7569a665",
   "metadata": {},
   "outputs": [
    {
     "name": "stdout",
     "output_type": "stream",
     "text": [
      "Enter a number to check if it's a palindrome:  0\n"
     ]
    },
    {
     "name": "stdout",
     "output_type": "stream",
     "text": [
      "0 is a palindrome.\n"
     ]
    }
   ],
   "source": [
    "def is_palindrome(number):\n",
    "    # Convert the number to a string for easier manipulation\n",
    "    num_str = str(number)\n",
    "    \n",
    "    # Initialize pointers for the first and last characters of the string\n",
    "    start = 0\n",
    "    end = len(num_str) - 1\n",
    "    \n",
    "    # Iterate using a while loop until the pointers meet or cross each other\n",
    "    while start < end:\n",
    "        # Compare characters at the current positions\n",
    "        if num_str[start] != num_str[end]:\n",
    "            return False  # If characters don't match, the number is not a palindrome\n",
    "        # Move the pointers towards each other\n",
    "        start += 1\n",
    "        end -= 1\n",
    "    \n",
    "    return True  # If the loop completes without returning False, the number is a palindrome\n",
    "\n",
    "# Test the function\n",
    "number = int(input(\"Enter a number to check if it's a palindrome: \"))\n",
    "if is_palindrome(number):\n",
    "    print(f\"{number} is a palindrome.\")\n",
    "else:\n",
    "    print(f\"{number} is not a palindrome.\")"
   ]
  },
  {
   "cell_type": "code",
   "execution_count": 13,
   "id": "34a0e300-6795-4f69-8e58-a959ed9cec6f",
   "metadata": {},
   "outputs": [],
   "source": [
    "#Q9. Write a code to print odd numbers from 1 to 100 using list comprehension.\n",
    "#Note: Use a list comprehension to create a list from 1 to 100 and use another List comprehension to filter\n",
    "#out odd numbers."
   ]
  },
  {
   "cell_type": "code",
   "execution_count": 14,
   "id": "0823ec1e-d0e8-4b18-a1a9-d6a5ca573870",
   "metadata": {},
   "outputs": [
    {
     "name": "stdout",
     "output_type": "stream",
     "text": [
      "[1, 3, 5, 7, 9, 11, 13, 15, 17, 19, 21, 23, 25, 27, 29, 31, 33, 35, 37, 39, 41, 43, 45, 47, 49, 51, 53, 55, 57, 59, 61, 63, 65, 67, 69, 71, 73, 75, 77, 79, 81, 83, 85, 87, 89, 91, 93, 95, 97, 99]\n"
     ]
    }
   ],
   "source": [
    "number =[i for i in range(0,101)]\n",
    "odd_number=[i for i in number if i % 2  != 0]\n",
    "print(odd_number)"
   ]
  },
  {
   "cell_type": "code",
   "execution_count": null,
   "id": "115e292c-1e87-42e3-b646-4364132ecca5",
   "metadata": {},
   "outputs": [],
   "source": []
  }
 ],
 "metadata": {
  "kernelspec": {
   "display_name": "Python 3 (ipykernel)",
   "language": "python",
   "name": "python3"
  },
  "language_info": {
   "codemirror_mode": {
    "name": "ipython",
    "version": 3
   },
   "file_extension": ".py",
   "mimetype": "text/x-python",
   "name": "python",
   "nbconvert_exporter": "python",
   "pygments_lexer": "ipython3",
   "version": "3.10.8"
  }
 },
 "nbformat": 4,
 "nbformat_minor": 5
}
