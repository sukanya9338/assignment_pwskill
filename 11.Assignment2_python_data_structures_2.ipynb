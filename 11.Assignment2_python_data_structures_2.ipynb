{
 "cells": [
  {
   "cell_type": "code",
   "execution_count": 1,
   "id": "66808912-ace5-4827-b630-7c094abd9ba4",
   "metadata": {},
   "outputs": [],
   "source": [
    "#1. How do you comment code in Python? What are the different types of comments?"
   ]
  },
  {
   "cell_type": "code",
   "execution_count": 2,
   "id": "20f3b789-a06e-440a-adf5-76d05fb2e972",
   "metadata": {},
   "outputs": [
    {
     "name": "stdout",
     "output_type": "stream",
     "text": [
      "Hello, World!\n",
      "Hello, World!\n"
     ]
    }
   ],
   "source": [
    "# This is a single-line comment\n",
    "print(\"Hello, World!\")  # This is another single-line comment\n",
    "\n",
    "'''\n",
    "This is a multi-line comment.\n",
    "It can span across multiple lines.\n",
    "'''\n",
    "print(\"Hello, World!\")"
   ]
  },
  {
   "cell_type": "code",
   "execution_count": 3,
   "id": "9a35a4b1-5719-4951-8266-54d5597a76e5",
   "metadata": {},
   "outputs": [],
   "source": [
    "#Q2. What are variables in Python? How do you declare and assign values to variables?\n",
    "#variables are used to store data values. Variables act as containers for storing values \n",
    "#that can be used, manipulated, and referenced throughout the program. Unlike some other programming languages, Python does not require explicit declaration of variables; \n",
    "#you simply assign a value to a variable, and Python creates the variable for you.\n",
    "\n",
    "\n",
    "\n",
    "\n",
    "s=\"sukanya\"\n",
    "x=5\n",
    "p1=3.67\n",
    "l1=True\n",
    "a,b,c=1,2,3"
   ]
  },
  {
   "cell_type": "code",
   "execution_count": 4,
   "id": "e2a3c64a-95eb-44b6-8332-94c15af4b9ea",
   "metadata": {},
   "outputs": [
    {
     "data": {
      "text/plain": [
       "1"
      ]
     },
     "execution_count": 4,
     "metadata": {},
     "output_type": "execute_result"
    }
   ],
   "source": [
    "a"
   ]
  },
  {
   "cell_type": "code",
   "execution_count": 5,
   "id": "630c5ea1-2bb6-486e-95af-a4012104eea3",
   "metadata": {},
   "outputs": [
    {
     "data": {
      "text/plain": [
       "3"
      ]
     },
     "execution_count": 5,
     "metadata": {},
     "output_type": "execute_result"
    }
   ],
   "source": [
    "c"
   ]
  },
  {
   "cell_type": "code",
   "execution_count": 6,
   "id": "73a25a5e-51b0-4f1a-9182-460ccadebe7d",
   "metadata": {},
   "outputs": [
    {
     "data": {
      "text/plain": [
       "'sukanya'"
      ]
     },
     "execution_count": 6,
     "metadata": {},
     "output_type": "execute_result"
    }
   ],
   "source": [
    "s"
   ]
  },
  {
   "cell_type": "code",
   "execution_count": 7,
   "id": "15215fb7-3e67-4083-b7ad-5903a78e441d",
   "metadata": {},
   "outputs": [
    {
     "data": {
      "text/plain": [
       "True"
      ]
     },
     "execution_count": 7,
     "metadata": {},
     "output_type": "execute_result"
    }
   ],
   "source": [
    "l1"
   ]
  },
  {
   "cell_type": "code",
   "execution_count": 9,
   "id": "611cb8a4-5cc5-4392-8cd7-ed66b2393731",
   "metadata": {},
   "outputs": [
    {
     "name": "stdout",
     "output_type": "stream",
     "text": [
      "sukanyamayur\n"
     ]
    }
   ],
   "source": [
    "#Q3. How do you convert one data type to another in Python?\n",
    "s=\"sukanya\"\n",
    "l=\"mayur\"            \n",
    "x=34    # Integer\n",
    "y=45.67 # Float\n",
    "z=x+y  # Implicit conversion of integer to float \n",
    "z1=s+l \n",
    "print(z1)# this is type convert in this python\n"
   ]
  },
  {
   "cell_type": "code",
   "execution_count": null,
   "id": "ebe7c741-d01a-4e72-b79b-bc5f6654dbd4",
   "metadata": {},
   "outputs": [],
   "source": [
    "#Q4. How do you write and execute a Python script from the command line?"
   ]
  },
  {
   "cell_type": "code",
   "execution_count": 10,
   "id": "43ac5495-144b-4697-9d48-8791d3609335",
   "metadata": {},
   "outputs": [
    {
     "name": "stdout",
     "output_type": "stream",
     "text": [
      "Hello, World!\n"
     ]
    }
   ],
   "source": [
    "  # This is a simple Python script\n",
    "print(\"Hello, World!\")"
   ]
  },
  {
   "cell_type": "code",
   "execution_count": 11,
   "id": "f1d6605a-9057-4776-9ebb-69d344011b73",
   "metadata": {},
   "outputs": [],
   "source": [
    "#Q5. Given a list my_list = [1, 2, 3, 4, 5], write the code to slice the list and obtain the sub-list [2, 3]."
   ]
  },
  {
   "cell_type": "code",
   "execution_count": 12,
   "id": "05dd39b2-4e05-44ba-a17d-bb8fe3e270ce",
   "metadata": {},
   "outputs": [],
   "source": [
    "my_list=[1,2,3,4,5]"
   ]
  },
  {
   "cell_type": "code",
   "execution_count": 20,
   "id": "a700468a-fdfc-46ff-b412-ce8848cd4c96",
   "metadata": {},
   "outputs": [],
   "source": [
    "sub_list=my_list[1:9]"
   ]
  },
  {
   "cell_type": "code",
   "execution_count": 21,
   "id": "d76e95a9-c149-406d-a258-7beb55addf2e",
   "metadata": {},
   "outputs": [
    {
     "data": {
      "text/plain": [
       "[2, 3, 4, 5]"
      ]
     },
     "execution_count": 21,
     "metadata": {},
     "output_type": "execute_result"
    }
   ],
   "source": [
    "sub_list"
   ]
  },
  {
   "cell_type": "code",
   "execution_count": 22,
   "id": "726f8060-01c1-4c6e-a8c2-67c86bf1d397",
   "metadata": {},
   "outputs": [],
   "source": [
    "    #Q6. What is a complex number in mathematics, and how is it represented in Python?"
   ]
  },
  {
   "cell_type": "code",
   "execution_count": 30,
   "id": "a136c3e9-a58e-4fd6-8de3-8f889525cde1",
   "metadata": {},
   "outputs": [],
   "source": [
    "\n",
    "s=5+7j #complex number\n",
    "#s=5 # real number\n",
    "#s=7j #imge number\n"
   ]
  },
  {
   "cell_type": "code",
   "execution_count": 31,
   "id": "254bf932-3d31-46ff-b402-97e9c1219633",
   "metadata": {},
   "outputs": [
    {
     "data": {
      "text/plain": [
       "(5+7j)"
      ]
     },
     "execution_count": 31,
     "metadata": {},
     "output_type": "execute_result"
    }
   ],
   "source": [
    "s"
   ]
  },
  {
   "cell_type": "code",
   "execution_count": 32,
   "id": "0f2d2875-423a-48c6-aada-191b9448d97d",
   "metadata": {},
   "outputs": [
    {
     "data": {
      "text/plain": [
       "complex"
      ]
     },
     "execution_count": 32,
     "metadata": {},
     "output_type": "execute_result"
    }
   ],
   "source": [
    "type(s)"
   ]
  },
  {
   "cell_type": "code",
   "execution_count": 35,
   "id": "10b2a04f-e554-4272-96e3-dc7f5e7e5617",
   "metadata": {},
   "outputs": [],
   "source": [
    "#Q7. What is the correct way to declare a variable named age and assign the value 25 to it?"
   ]
  },
  {
   "cell_type": "code",
   "execution_count": 36,
   "id": "062533ca-2638-4a2d-a4ce-1559d260d442",
   "metadata": {},
   "outputs": [],
   "source": [
    "name=\"sukanya\"\n",
    "age=25"
   ]
  },
  {
   "cell_type": "code",
   "execution_count": 37,
   "id": "a9d3ace9-d023-4484-a12a-4c2e98822d9c",
   "metadata": {},
   "outputs": [
    {
     "data": {
      "text/plain": [
       "25"
      ]
     },
     "execution_count": 37,
     "metadata": {},
     "output_type": "execute_result"
    }
   ],
   "source": [
    "age"
   ]
  },
  {
   "cell_type": "code",
   "execution_count": 39,
   "id": "9a7d9042-cf24-4ba6-8328-df432164a488",
   "metadata": {},
   "outputs": [],
   "source": [
    "#Q8. Declare a variable named price and assign the value 9.99 to it. What data type does this variablebelong to?"
   ]
  },
  {
   "cell_type": "code",
   "execution_count": 40,
   "id": "cd7962ae-c5a1-462b-b378-440fc3a2478d",
   "metadata": {},
   "outputs": [],
   "source": [
    "price=9.99"
   ]
  },
  {
   "cell_type": "code",
   "execution_count": 41,
   "id": "2f296e51-56bc-4e38-8d30-1ece0862cf93",
   "metadata": {},
   "outputs": [
    {
     "data": {
      "text/plain": [
       "9.99"
      ]
     },
     "execution_count": 41,
     "metadata": {},
     "output_type": "execute_result"
    }
   ],
   "source": [
    "price"
   ]
  },
  {
   "cell_type": "code",
   "execution_count": 42,
   "id": "87f3c79e-ff81-4e8c-b56a-2466f634aef9",
   "metadata": {},
   "outputs": [
    {
     "data": {
      "text/plain": [
       "float"
      ]
     },
     "execution_count": 42,
     "metadata": {},
     "output_type": "execute_result"
    }
   ],
   "source": [
    "type(price)"
   ]
  },
  {
   "cell_type": "code",
   "execution_count": 43,
   "id": "7cfc8e38-5722-47cf-8c16-085a8fab38c7",
   "metadata": {},
   "outputs": [],
   "source": [
    "#Q9. Create a variable named name and assign your full name to it as a string. How would you print the\n",
    "#value of this variable?"
   ]
  },
  {
   "cell_type": "code",
   "execution_count": 44,
   "id": "77603da7-63dc-495f-9bba-36573f582394",
   "metadata": {},
   "outputs": [
    {
     "name": "stdout",
     "output_type": "stream",
     "text": [
      "sukanya devi\n"
     ]
    }
   ],
   "source": [
    "name=\"sukanya devi\"\n",
    "print(name)"
   ]
  },
  {
   "cell_type": "code",
   "execution_count": 45,
   "id": "62bf4753-457d-4108-9667-6b62f44e5dc7",
   "metadata": {},
   "outputs": [],
   "source": [
    "#Q10. Given the string \"Hello, World!\", extract the substring \"World\"."
   ]
  },
  {
   "cell_type": "code",
   "execution_count": 50,
   "id": "d6a7d50d-9936-423e-a4d6-4afeed5a6d96",
   "metadata": {},
   "outputs": [],
   "source": [
    "original_string=\"Hello, World\"\n",
    "substring=original_string[7:12]"
   ]
  },
  {
   "cell_type": "code",
   "execution_count": 51,
   "id": "8d9c8510-c154-41ab-bcd4-16bdb78d4383",
   "metadata": {},
   "outputs": [
    {
     "data": {
      "text/plain": [
       "'World'"
      ]
     },
     "execution_count": 51,
     "metadata": {},
     "output_type": "execute_result"
    }
   ],
   "source": [
    "substring"
   ]
  },
  {
   "cell_type": "code",
   "execution_count": 52,
   "id": "44a0a7a2-dfd6-4a35-9cf2-22d9595cf0ca",
   "metadata": {},
   "outputs": [],
   "source": [
    "#Q11. Create a variable named \"is_student\" and assign it a boolean value indicating whether you are\n",
    "#currently a student or not."
   ]
  },
  {
   "cell_type": "code",
   "execution_count": 53,
   "id": "b7e094d6-5616-4342-abf3-c7ac576e9ae6",
   "metadata": {},
   "outputs": [],
   "source": [
    "is_student=True"
   ]
  },
  {
   "cell_type": "code",
   "execution_count": 55,
   "id": "83d70c13-44fc-456c-a425-ff1f55f1f8ff",
   "metadata": {},
   "outputs": [
    {
     "data": {
      "text/plain": [
       "True"
      ]
     },
     "execution_count": 55,
     "metadata": {},
     "output_type": "execute_result"
    }
   ],
   "source": [
    "is_student"
   ]
  },
  {
   "cell_type": "code",
   "execution_count": null,
   "id": "96b54ea3-88c3-4a9f-bd5b-1e2d561d3663",
   "metadata": {},
   "outputs": [],
   "source": []
  }
 ],
 "metadata": {
  "kernelspec": {
   "display_name": "Python 3 (ipykernel)",
   "language": "python",
   "name": "python3"
  },
  "language_info": {
   "codemirror_mode": {
    "name": "ipython",
    "version": 3
   },
   "file_extension": ".py",
   "mimetype": "text/x-python",
   "name": "python",
   "nbconvert_exporter": "python",
   "pygments_lexer": "ipython3",
   "version": "3.10.8"
  }
 },
 "nbformat": 4,
 "nbformat_minor": 5
}
