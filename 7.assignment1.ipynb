{
 "cells": [
  {
   "cell_type": "code",
   "execution_count": 2,
   "id": "10c17b61-cd52-468d-a11f-d2a823c192af",
   "metadata": {},
   "outputs": [
    {
     "data": {
      "text/plain": [
       "True"
      ]
     },
     "execution_count": 2,
     "metadata": {},
     "output_type": "execute_result"
    }
   ],
   "source": [
    "True\n"
   ]
  },
  {
   "cell_type": "code",
   "execution_count": 3,
   "id": "68c2935f-31f1-4b8f-a7b6-5b82c831edf7",
   "metadata": {},
   "outputs": [],
   "source": [
    "#Q1. Create one variable containing following type of data:\n",
    "#(i) string\n",
    "#(ii) list\n",
    "#(iii) float\n",
    "#(iv) tuple"
   ]
  },
  {
   "cell_type": "code",
   "execution_count": 4,
   "id": "c3d6e661-0fa9-4674-be88-5200cc29abf4",
   "metadata": {},
   "outputs": [],
   "source": [
    "my_str=\"hello pw skill\""
   ]
  },
  {
   "cell_type": "code",
   "execution_count": 5,
   "id": "fb6749fc-0164-4e1b-aca2-2b5f4ee8b7d2",
   "metadata": {},
   "outputs": [
    {
     "data": {
      "text/plain": [
       "'hello pw skill'"
      ]
     },
     "execution_count": 5,
     "metadata": {},
     "output_type": "execute_result"
    }
   ],
   "source": [
    "my_str"
   ]
  },
  {
   "cell_type": "code",
   "execution_count": 6,
   "id": "8721d5f6-642c-45fe-afea-a229b9d947ae",
   "metadata": {},
   "outputs": [],
   "source": [
    "my_list=[23,45,67,\"hello\",\"sukanya\",6.7,True]"
   ]
  },
  {
   "cell_type": "code",
   "execution_count": 7,
   "id": "9c0ff7c6-600c-44ab-896d-c5096ccf5add",
   "metadata": {},
   "outputs": [
    {
     "data": {
      "text/plain": [
       "[23, 45, 67, 'hello', 'sukanya', 6.7, True]"
      ]
     },
     "execution_count": 7,
     "metadata": {},
     "output_type": "execute_result"
    }
   ],
   "source": [
    "my_list"
   ]
  },
  {
   "cell_type": "code",
   "execution_count": 8,
   "id": "263ec588-e742-45c6-a2bd-c3986cb171cb",
   "metadata": {},
   "outputs": [],
   "source": [
    "my_float=656.7"
   ]
  },
  {
   "cell_type": "code",
   "execution_count": 9,
   "id": "f58d4d3f-8d43-4686-a530-86551f6ed254",
   "metadata": {},
   "outputs": [
    {
     "data": {
      "text/plain": [
       "656.7"
      ]
     },
     "execution_count": 9,
     "metadata": {},
     "output_type": "execute_result"
    }
   ],
   "source": [
    "my_float"
   ]
  },
  {
   "cell_type": "code",
   "execution_count": 10,
   "id": "4849b503-bead-40b9-b8c5-a3d2b94739bc",
   "metadata": {},
   "outputs": [
    {
     "data": {
      "text/plain": [
       "list"
      ]
     },
     "execution_count": 10,
     "metadata": {},
     "output_type": "execute_result"
    }
   ],
   "source": [
    "type(my_list)"
   ]
  },
  {
   "cell_type": "code",
   "execution_count": 13,
   "id": "8cdc1d4f-7e2c-49f9-9e13-5a847e5aed21",
   "metadata": {},
   "outputs": [],
   "source": [
    "my_tuple={10,70,30,20,50}"
   ]
  },
  {
   "cell_type": "code",
   "execution_count": 12,
   "id": "644c2213-5bc3-475b-96d9-19486896f677",
   "metadata": {},
   "outputs": [
    {
     "data": {
      "text/plain": [
       "{10, 20, 30, 40, 50}"
      ]
     },
     "execution_count": 12,
     "metadata": {},
     "output_type": "execute_result"
    }
   ],
   "source": [
    "my_tuple"
   ]
  },
  {
   "cell_type": "code",
   "execution_count": 14,
   "id": "5a1d7560-45b9-4357-a764-e34af991db27",
   "metadata": {},
   "outputs": [
    {
     "data": {
      "text/plain": [
       "{10, 20, 30, 50, 70}"
      ]
     },
     "execution_count": 14,
     "metadata": {},
     "output_type": "execute_result"
    }
   ],
   "source": [
    "my_tuple"
   ]
  },
  {
   "cell_type": "code",
   "execution_count": 15,
   "id": "0059404d-2082-4353-8f36-3571f6d1c1cf",
   "metadata": {},
   "outputs": [],
   "source": [
    "#Q2. Given are some following variables containing data:\n",
    "#(i) var1 = ‘ ‘\n",
    "#(ii) var2 = ‘[ DS , ML , Python]’\n",
    "#(iii) var3 = [ ‘DS’ , ’ML’ , ‘Python’ ]\n",
    "#(iv) var4 = 1.\n",
    "#What will be the data type of the above given variable.\n"
   ]
  },
  {
   "cell_type": "code",
   "execution_count": 16,
   "id": "5a06dd4b-8062-4886-9f94-ebb1fb3f36f7",
   "metadata": {},
   "outputs": [],
   "source": [
    "var1=' '"
   ]
  },
  {
   "cell_type": "code",
   "execution_count": 17,
   "id": "e615e93d-48dd-4a60-9a6d-daff18913dc8",
   "metadata": {},
   "outputs": [
    {
     "data": {
      "text/plain": [
       "' '"
      ]
     },
     "execution_count": 17,
     "metadata": {},
     "output_type": "execute_result"
    }
   ],
   "source": [
    "var1"
   ]
  },
  {
   "cell_type": "code",
   "execution_count": 18,
   "id": "ca8c7be8-fbd6-459a-a426-3db6059d9b5b",
   "metadata": {},
   "outputs": [
    {
     "data": {
      "text/plain": [
       "str"
      ]
     },
     "execution_count": 18,
     "metadata": {},
     "output_type": "execute_result"
    }
   ],
   "source": [
    "type(var1)"
   ]
  },
  {
   "cell_type": "code",
   "execution_count": 19,
   "id": "44b347c8-d1d0-4b84-8b65-a83850ba3f0c",
   "metadata": {},
   "outputs": [],
   "source": [
    "var2='[DS,ML,Python]'"
   ]
  },
  {
   "cell_type": "code",
   "execution_count": 20,
   "id": "c96b3cb3-ab55-47e3-9dba-47da0dec4fa9",
   "metadata": {},
   "outputs": [
    {
     "data": {
      "text/plain": [
       "'[DS,ML,Python]'"
      ]
     },
     "execution_count": 20,
     "metadata": {},
     "output_type": "execute_result"
    }
   ],
   "source": [
    "var2"
   ]
  },
  {
   "cell_type": "code",
   "execution_count": 21,
   "id": "ebe3db93-1007-4dd1-8489-f289d8585732",
   "metadata": {},
   "outputs": [
    {
     "data": {
      "text/plain": [
       "str"
      ]
     },
     "execution_count": 21,
     "metadata": {},
     "output_type": "execute_result"
    }
   ],
   "source": [
    "type(var2)"
   ]
  },
  {
   "cell_type": "code",
   "execution_count": 25,
   "id": "d842763a-20ee-4230-b927-5200aff60e0b",
   "metadata": {},
   "outputs": [],
   "source": [
    "var3 = ['DS' ,'ML' ,'Python' ]"
   ]
  },
  {
   "cell_type": "code",
   "execution_count": 26,
   "id": "b2dd2984-c4a7-49a8-a05f-c9c7af2a84c4",
   "metadata": {},
   "outputs": [
    {
     "data": {
      "text/plain": [
       "['DS', 'ML', 'Python']"
      ]
     },
     "execution_count": 26,
     "metadata": {},
     "output_type": "execute_result"
    }
   ],
   "source": [
    "var3"
   ]
  },
  {
   "cell_type": "code",
   "execution_count": 27,
   "id": "4fadee39-9a8a-41a7-a65e-53550d82888b",
   "metadata": {},
   "outputs": [
    {
     "data": {
      "text/plain": [
       "list"
      ]
     },
     "execution_count": 27,
     "metadata": {},
     "output_type": "execute_result"
    }
   ],
   "source": [
    "type(var3)"
   ]
  },
  {
   "cell_type": "code",
   "execution_count": 28,
   "id": "2a5142f2-8c00-4881-a132-37bf3863188d",
   "metadata": {},
   "outputs": [],
   "source": [
    "var4 = 1."
   ]
  },
  {
   "cell_type": "code",
   "execution_count": 29,
   "id": "1535d79a-6acb-453a-acb0-64bbe45dea15",
   "metadata": {},
   "outputs": [
    {
     "data": {
      "text/plain": [
       "1.0"
      ]
     },
     "execution_count": 29,
     "metadata": {},
     "output_type": "execute_result"
    }
   ],
   "source": [
    "var4"
   ]
  },
  {
   "cell_type": "code",
   "execution_count": 30,
   "id": "aafd8c59-e496-4ecd-b427-8a7b5e94d5ff",
   "metadata": {},
   "outputs": [
    {
     "data": {
      "text/plain": [
       "float"
      ]
     },
     "execution_count": 30,
     "metadata": {},
     "output_type": "execute_result"
    }
   ],
   "source": [
    "type(var4)"
   ]
  },
  {
   "cell_type": "code",
   "execution_count": 31,
   "id": "1f9b7013-1f44-45cd-9148-4f005f4c8c91",
   "metadata": {},
   "outputs": [],
   "source": [
    "#Q3. Explain the use of the following operators using an example:\n",
    "#(i) /\n",
    "#(ii) %\n",
    "#(iii) //\n",
    "#(iv) **"
   ]
  },
  {
   "cell_type": "code",
   "execution_count": 32,
   "id": "16f9c254-379a-477f-8928-f761aea96955",
   "metadata": {},
   "outputs": [
    {
     "name": "stdout",
     "output_type": "stream",
     "text": [
      "2.0 0 2 100000\n"
     ]
    }
   ],
   "source": [
    "a = 10\n",
    "\n",
    "b = 5\n",
    "c=a/b\n",
    "d=a%b\n",
    "e=a//b\n",
    "f=a**b\n",
    "print(c,d,e,f)"
   ]
  },
  {
   "cell_type": "code",
   "execution_count": 33,
   "id": "51242c18-610e-4afb-b3f7-b7445de69abc",
   "metadata": {},
   "outputs": [],
   "source": [
    "#Q4. Create a list of length 10 of your choice containing multiple types of data. Using for loop print the\n",
    "#element and its data type."
   ]
  },
  {
   "cell_type": "code",
   "execution_count": 38,
   "id": "77dfdcb3-609f-4de7-85b2-f7f3b9e0b9ec",
   "metadata": {},
   "outputs": [
    {
     "name": "stdout",
     "output_type": "stream",
     "text": [
      "sukanya\n",
      "<class 'str'>\n",
      "True\n",
      "<class 'bool'>\n",
      "98\n",
      "<class 'int'>\n",
      "False\n",
      "<class 'bool'>\n",
      "8.9\n",
      "<class 'float'>\n",
      "45\n",
      "<class 'int'>\n",
      "78\n",
      "<class 'int'>\n",
      "mayur\n",
      "<class 'str'>\n",
      "23\n",
      "<class 'int'>\n"
     ]
    }
   ],
   "source": [
    "my_list={23,45,78,\"sukanya\",98,8.9,\"mayur\",True,78,False}\n",
    "\n",
    "for i in my_list:\n",
    "    print(i)\n",
    "    print(type(i))"
   ]
  },
  {
   "cell_type": "code",
   "execution_count": 40,
   "id": "3072eb60-9634-4d95-b54f-c61deaa97312",
   "metadata": {},
   "outputs": [
    {
     "name": "stdout",
     "output_type": "stream",
     "text": [
      "sukanya\n",
      "<class 'str'>\n",
      "True\n",
      "<class 'bool'>\n",
      "66\n",
      "<class 'int'>\n",
      "False\n",
      "<class 'bool'>\n",
      "8.9\n",
      "<class 'float'>\n",
      "45\n",
      "<class 'int'>\n",
      "78\n",
      "<class 'int'>\n",
      "mayur\n",
      "<class 'str'>\n",
      "23\n",
      "<class 'int'>\n",
      "89\n",
      "<class 'int'>\n"
     ]
    }
   ],
   "source": [
    "my_list={23,45,78,89,66,\"sukanya\",8.9,\"mayur\",True,False}\n",
    "\n",
    "for i in my_list:\n",
    "    print(i)\n",
    "    print(type(i))"
   ]
  },
  {
   "cell_type": "code",
   "execution_count": null,
   "id": "0f4e8fb3-9b62-41d8-b421-c17263560ac4",
   "metadata": {},
   "outputs": [],
   "source": [
    "#Q5. Using a while loop, verify if the number A is purely divisible by number B and if so then how many\n",
    "#times it can be divisible."
   ]
  },
  {
   "cell_type": "code",
   "execution_count": 32,
   "id": "6660392a-60e8-4895-93c1-d4e81dbe8e52",
   "metadata": {},
   "outputs": [
    {
     "name": "stdin",
     "output_type": "stream",
     "text": [
      "Enter the dividend (A):  27\n",
      "Enter the divisor (B):  3\n"
     ]
    },
    {
     "name": "stdout",
     "output_type": "stream",
     "text": [
      "1 is purely divisible by 3 and can be divided 3 times.\n"
     ]
    }
   ],
   "source": [
    "A = int(input(\"Enter the dividend (A): \"))\n",
    "B = int(input(\"Enter the divisor (B): \"))\n",
    "divisions = 0\n",
    "\n",
    "while A % B == 0:\n",
    "    A = A // B  # Update A by dividing it by B\n",
    "    divisions += 1 \n",
    "\n",
    "if A == 1:\n",
    "    print(f\"{A} is purely divisible by {B} and can be divided {divisions} times.\")\n",
    "else:\n",
    "    print(f\"{A} is not purely divisible by {B}.\")"
   ]
  },
  {
   "cell_type": "code",
   "execution_count": 4,
   "id": "245f9e30-611e-48ea-8153-da943928c5c0",
   "metadata": {},
   "outputs": [],
   "source": [
    "#Q6. Create a list containing 25 int type data. Using for loop and if-else condition print if the element is divisible by 3 or not."
   ]
  },
  {
   "cell_type": "code",
   "execution_count": 33,
   "id": "4cbdfbff-dc71-4c84-9f90-5acf26ee7d6c",
   "metadata": {},
   "outputs": [
    {
     "name": "stdout",
     "output_type": "stream",
     "text": [
      "1 is not divisible by 3.\n",
      "2 is not divisible by 3.\n",
      "3 is divisible by 3.\n",
      "4 is not divisible by 3.\n",
      "5 is not divisible by 3.\n",
      "6 is divisible by 3.\n",
      "7 is not divisible by 3.\n",
      "8 is not divisible by 3.\n",
      "9 is divisible by 3.\n",
      "10 is not divisible by 3.\n",
      "11 is not divisible by 3.\n",
      "12 is divisible by 3.\n",
      "13 is not divisible by 3.\n",
      "14 is not divisible by 3.\n",
      "15 is divisible by 3.\n",
      "16 is not divisible by 3.\n",
      "17 is not divisible by 3.\n",
      "18 is divisible by 3.\n",
      "19 is not divisible by 3.\n",
      "20 is not divisible by 3.\n",
      "21 is divisible by 3.\n",
      "22 is not divisible by 3.\n",
      "23 is not divisible by 3.\n",
      "24 is divisible by 3.\n",
      "25 is not divisible by 3.\n",
      "67 is not divisible by 3.\n"
     ]
    }
   ],
   "source": [
    "l = {67, 1, 2, 3, 4, 5, 6, 7, 8, 9, 10, 11, 12, 13, 14, 15, 16, 17, 18, 19, 20, 21, 22, 23, 24, 25}\n",
    "\n",
    "for i in l:\n",
    "    if i % 3 == 0:\n",
    "        print(f\"{i} is divisible by 3.\")\n",
    "    else:\n",
    "        print(f\"{i} is not divisible by 3.\")\n",
    "    "
   ]
  },
  {
   "cell_type": "code",
   "execution_count": 34,
   "id": "d13a663f-b0a6-4719-9943-13363cea3b8c",
   "metadata": {},
   "outputs": [],
   "source": [
    "#Q7. What do you understand about mutable and immutable data types? Give examples for both showing this property."
   ]
  },
  {
   "cell_type": "code",
   "execution_count": 35,
   "id": "5c48eb48-3b42-417d-977d-1a0ec8ee8325",
   "metadata": {},
   "outputs": [],
   "source": [
    "#Mutable data types can be modified or changed after they are created.\n",
    "my_list=[2, 3, 4, 300, 6,\"sukanya\", 78, 'mayur', (6+7j), True, 89.78]\n"
   ]
  },
  {
   "cell_type": "code",
   "execution_count": 36,
   "id": "853b1fd7-e531-4c45-8023-554b19763d48",
   "metadata": {},
   "outputs": [
    {
     "data": {
      "text/plain": [
       "[2, 3, 4, 300, 6, 'sukanya', 78, 'mayur', (6+7j), True, 89.78]"
      ]
     },
     "execution_count": 36,
     "metadata": {},
     "output_type": "execute_result"
    }
   ],
   "source": [
    "my_list"
   ]
  },
  {
   "cell_type": "code",
   "execution_count": 37,
   "id": "f45a5c3c-8c0a-4216-b693-9998eed5a89f",
   "metadata": {},
   "outputs": [
    {
     "data": {
      "text/plain": [
       "int"
      ]
     },
     "execution_count": 37,
     "metadata": {},
     "output_type": "execute_result"
    }
   ],
   "source": [
    "type(my_list[3])"
   ]
  },
  {
   "cell_type": "code",
   "execution_count": 38,
   "id": "18a6e2ef-2ee7-4217-9632-44c787376b9e",
   "metadata": {},
   "outputs": [
    {
     "data": {
      "text/plain": [
       "'sukanya'"
      ]
     },
     "execution_count": 38,
     "metadata": {},
     "output_type": "execute_result"
    }
   ],
   "source": [
    "my_list[5]"
   ]
  },
  {
   "cell_type": "code",
   "execution_count": 39,
   "id": "cbd80d89-9c21-4c5d-9b4a-8deabe60a044",
   "metadata": {},
   "outputs": [
    {
     "data": {
      "text/plain": [
       "str"
      ]
     },
     "execution_count": 39,
     "metadata": {},
     "output_type": "execute_result"
    }
   ],
   "source": [
    "type(my_list[5])"
   ]
  },
  {
   "cell_type": "code",
   "execution_count": 40,
   "id": "fd9831e0-61ce-48b6-a481-1972880e6dc8",
   "metadata": {},
   "outputs": [],
   "source": [
    "my_list[3]=63"
   ]
  },
  {
   "cell_type": "code",
   "execution_count": 41,
   "id": "c72b3cd0-21f3-4142-aa1c-0770909663ec",
   "metadata": {},
   "outputs": [
    {
     "data": {
      "text/plain": [
       "[2, 3, 4, 63, 6, 'sukanya', 78, 'mayur', (6+7j), True, 89.78]"
      ]
     },
     "execution_count": 41,
     "metadata": {},
     "output_type": "execute_result"
    }
   ],
   "source": [
    "my_list"
   ]
  },
  {
   "cell_type": "code",
   "execution_count": 42,
   "id": "a483c37b-e9cd-4398-b9e7-e3338784ca80",
   "metadata": {},
   "outputs": [],
   "source": [
    "#Immutable data types cannot be changed once they are created\n",
    "s1=\"sukanya\""
   ]
  },
  {
   "cell_type": "code",
   "execution_count": 43,
   "id": "491ea20f-124d-455d-9209-f564de5a673b",
   "metadata": {},
   "outputs": [
    {
     "data": {
      "text/plain": [
       "'sukanya'"
      ]
     },
     "execution_count": 43,
     "metadata": {},
     "output_type": "execute_result"
    }
   ],
   "source": [
    "s1"
   ]
  },
  {
   "cell_type": "code",
   "execution_count": 44,
   "id": "64a5e2e1-d64e-46c0-a6ca-c33b1f02b64d",
   "metadata": {},
   "outputs": [
    {
     "data": {
      "text/plain": [
       "'s'"
      ]
     },
     "execution_count": 44,
     "metadata": {},
     "output_type": "execute_result"
    }
   ],
   "source": [
    "s1[0]"
   ]
  },
  {
   "cell_type": "code",
   "execution_count": 45,
   "id": "c9c7b7e5-681f-47a6-a394-8151e067b995",
   "metadata": {},
   "outputs": [
    {
     "data": {
      "text/plain": [
       "'a'"
      ]
     },
     "execution_count": 45,
     "metadata": {},
     "output_type": "execute_result"
    }
   ],
   "source": [
    "s1[3]"
   ]
  },
  {
   "cell_type": "code",
   "execution_count": 49,
   "id": "89a7f86d-89a9-4dd2-bc3b-2417e6565c3b",
   "metadata": {},
   "outputs": [],
   "source": [
    "# s1[4]='j' it give error 'str' object does not support item assignment\n",
    "\n",
    "\n"
   ]
  },
  {
   "cell_type": "code",
   "execution_count": 51,
   "id": "aa8c6c38-575b-45c6-9201-bbc1fed13170",
   "metadata": {},
   "outputs": [],
   "source": [
    "s='j'"
   ]
  },
  {
   "cell_type": "code",
   "execution_count": 52,
   "id": "05157bfe-6695-43c9-a016-7e81915fdfe6",
   "metadata": {},
   "outputs": [
    {
     "data": {
      "text/plain": [
       "'sukanyaj'"
      ]
     },
     "execution_count": 52,
     "metadata": {},
     "output_type": "execute_result"
    }
   ],
   "source": [
    "s1+s"
   ]
  },
  {
   "cell_type": "code",
   "execution_count": null,
   "id": "206f2eda-3e60-4994-b91d-0caf9434c255",
   "metadata": {},
   "outputs": [],
   "source": []
  }
 ],
 "metadata": {
  "kernelspec": {
   "display_name": "Python 3 (ipykernel)",
   "language": "python",
   "name": "python3"
  },
  "language_info": {
   "codemirror_mode": {
    "name": "ipython",
    "version": 3
   },
   "file_extension": ".py",
   "mimetype": "text/x-python",
   "name": "python",
   "nbconvert_exporter": "python",
   "pygments_lexer": "ipython3",
   "version": "3.10.8"
  }
 },
 "nbformat": 4,
 "nbformat_minor": 5
}
