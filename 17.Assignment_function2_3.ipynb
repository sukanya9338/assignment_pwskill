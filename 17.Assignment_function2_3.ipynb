{
 "cells": [
  {
   "cell_type": "code",
   "execution_count": 1,
   "id": "d23219de-1c57-47e4-95fb-7b216f9d70e0",
   "metadata": {},
   "outputs": [],
   "source": [
    "#Q1. Create a python program to sort the given list of tuples based on integer value using a\n",
    "# lambda function."
   ]
  },
  {
   "cell_type": "code",
   "execution_count": 11,
   "id": "7683ec9a-225f-45de-8acb-559be2f54570",
   "metadata": {},
   "outputs": [
    {
     "name": "stdout",
     "output_type": "stream",
     "text": [
      "('Virat Kohli', 24936)\n",
      "('Jack Kallis', 25534)\n",
      "('Ricky Ponting', 27483)\n",
      "('Sachin Tendulkar', 34357)\n"
     ]
    }
   ],
   "source": [
    "data = [('Sachin Tendulkar', 34357), \n",
    "        ('Ricky Ponting', 27483), \n",
    "        ('Jack Kallis', 25534), \n",
    "        ('Virat Kohli', 24936)]\n",
    "\n",
    "# Sort the list of tuples based on integer value using a lambda function\n",
    "sorted_data = sorted(data, key=lambda x: x[1])\n",
    "\n",
    "# Print the sorted list\n",
    "for item in sorted_data:\n",
    "    print(item)"
   ]
  },
  {
   "cell_type": "code",
   "execution_count": 16,
   "id": "8d771af8-d006-432c-b5b3-909724f6e20d",
   "metadata": {},
   "outputs": [],
   "source": [
    "#Q2. Write a Python Program to find the squares of all the numbers in the given list of integers using\n",
    "#lambda and map functions."
   ]
  },
  {
   "cell_type": "code",
   "execution_count": 20,
   "id": "8809d2dc-63c8-4d86-9416-97044ca6d4cb",
   "metadata": {},
   "outputs": [],
   "source": [
    "data2=[1, 2, 3, 4, 5, 6, 7, 8, 9, 10]"
   ]
  },
  {
   "cell_type": "code",
   "execution_count": 21,
   "id": "44fe3fa5-402e-45c3-a88f-361027e69d52",
   "metadata": {},
   "outputs": [
    {
     "data": {
      "text/plain": [
       "[1, 2, 3, 4, 5, 6, 7, 8, 9, 10]"
      ]
     },
     "execution_count": 21,
     "metadata": {},
     "output_type": "execute_result"
    }
   ],
   "source": [
    "data2"
   ]
  },
  {
   "cell_type": "code",
   "execution_count": 25,
   "id": "848cbdde-cea3-43ca-93f9-1e0f143a2c8e",
   "metadata": {},
   "outputs": [
    {
     "data": {
      "text/plain": [
       "[1, 4, 9, 16, 25, 36, 49, 64, 81, 100]"
      ]
     },
     "execution_count": 25,
     "metadata": {},
     "output_type": "execute_result"
    }
   ],
   "source": [
    "list(map(lambda x: x**2,data2))"
   ]
  },
  {
   "cell_type": "code",
   "execution_count": 26,
   "id": "f90e066a-5e1b-42d8-b0e8-af5bab93fb1c",
   "metadata": {},
   "outputs": [],
   "source": [
    "#Q3. Write a python program to convert the given list of integers into a tuple of strings. Use map and\n",
    "#lambda functions"
   ]
  },
  {
   "cell_type": "code",
   "execution_count": 27,
   "id": "f5b5402b-4616-46ae-a660-66d751cff023",
   "metadata": {},
   "outputs": [],
   "source": [
    "data3= [1, 2, 3, 4, 5, 6, 7, 8, 9, 10]"
   ]
  },
  {
   "cell_type": "code",
   "execution_count": 28,
   "id": "c34de678-0fac-4880-851c-dbd1b44eb3ae",
   "metadata": {},
   "outputs": [
    {
     "data": {
      "text/plain": [
       "[1, 2, 3, 4, 5, 6, 7, 8, 9, 10]"
      ]
     },
     "execution_count": 28,
     "metadata": {},
     "output_type": "execute_result"
    }
   ],
   "source": [
    "data3"
   ]
  },
  {
   "cell_type": "code",
   "execution_count": 34,
   "id": "f8eb4b5b-33ef-41e4-97e6-8f59280d1c43",
   "metadata": {},
   "outputs": [
    {
     "data": {
      "text/plain": [
       "['1', '2', '3', '4', '5', '6', '7', '8', '9', '10']"
      ]
     },
     "execution_count": 34,
     "metadata": {},
     "output_type": "execute_result"
    }
   ],
   "source": [
    "list(map(lambda s : str(s),data3))"
   ]
  },
  {
   "cell_type": "code",
   "execution_count": 35,
   "id": "eece851b-95df-470c-afd8-b870e6c55f06",
   "metadata": {},
   "outputs": [],
   "source": [
    "#Q4. Write a python program using reduce function to compute the product of a list containing numbers\n",
    "#from 1 to 25."
   ]
  },
  {
   "cell_type": "code",
   "execution_count": 1,
   "id": "03dd11c2-0bf5-4cbf-9fe8-1121cc6b8748",
   "metadata": {},
   "outputs": [
    {
     "name": "stdout",
     "output_type": "stream",
     "text": [
      "Product of numbers from 1 to 25: 15511210043330985984000000\n"
     ]
    }
   ],
   "source": [
    "from functools import reduce\n",
    "import operator\n",
    "\n",
    "# Create a list containing numbers from 1 to 25\n",
    "numbers = list(range(1, 26))\n",
    "\n",
    "# Use reduce function to compute the product of the numbers\n",
    "product = reduce(operator.mul, numbers)\n",
    "\n",
    "# Print the product\n",
    "print(\"Product of numbers from 1 to 25:\", product)"
   ]
  },
  {
   "cell_type": "code",
   "execution_count": 2,
   "id": "66037b1c-10fa-41d3-88be-468aa766f147",
   "metadata": {},
   "outputs": [
    {
     "name": "stdout",
     "output_type": "stream",
     "text": [
      "325\n"
     ]
    }
   ],
   "source": [
    "from functools import reduce \n",
    "\n",
    "nums = list(range(1, 26))\n",
    "ans = reduce(lambda x, y: x + y, nums)\n",
    "print(ans) "
   ]
  },
  {
   "cell_type": "code",
   "execution_count": 3,
   "id": "92cc8bc6-2fef-427d-9662-beda2464342c",
   "metadata": {},
   "outputs": [],
   "source": [
    "#Q5. Write a python program to filter the numbers in a given list that are divisible by 2 and 3 using the\n",
    "# filter function."
   ]
  },
  {
   "cell_type": "code",
   "execution_count": 9,
   "id": "e02239cb-bab9-4662-8194-bda73b1ccc66",
   "metadata": {},
   "outputs": [
    {
     "data": {
      "text/plain": [
       "[6, 60, 90, 120]"
      ]
     },
     "execution_count": 9,
     "metadata": {},
     "output_type": "execute_result"
    }
   ],
   "source": [
    "data4=[2, 3, 6, 9, 27, 60, 90, 120, 55, 46]\n",
    "\n",
    "list(filter(lambda x : x%2==0 and x%3==0,data4 ))"
   ]
  },
  {
   "cell_type": "code",
   "execution_count": 10,
   "id": "d846dec7-5d51-4e0d-9ddb-6be366b8f8cc",
   "metadata": {},
   "outputs": [],
   "source": [
    "#Q6. Write a python program to find palindromes in the given list of strings using lambda and filter\n",
    "# function."
   ]
  },
  {
   "cell_type": "code",
   "execution_count": 14,
   "id": "17d4e2a4-6d15-4b4e-8bfe-967d9fb18d31",
   "metadata": {},
   "outputs": [
    {
     "data": {
      "text/plain": [
       "['php', 'aba', 'radar', 'level']"
      ]
     },
     "execution_count": 14,
     "metadata": {},
     "output_type": "execute_result"
    }
   ],
   "source": [
    "data5=['python', 'php', 'aba', 'radar', 'level']\n",
    "list(filter(lambda x: x==x[ : :-1],data5))"
   ]
  },
  {
   "cell_type": "code",
   "execution_count": null,
   "id": "09123071-06a8-403d-98e1-9087e35136be",
   "metadata": {},
   "outputs": [],
   "source": []
  }
 ],
 "metadata": {
  "kernelspec": {
   "display_name": "Python 3 (ipykernel)",
   "language": "python",
   "name": "python3"
  },
  "language_info": {
   "codemirror_mode": {
    "name": "ipython",
    "version": 3
   },
   "file_extension": ".py",
   "mimetype": "text/x-python",
   "name": "python",
   "nbconvert_exporter": "python",
   "pygments_lexer": "ipython3",
   "version": "3.10.8"
  }
 },
 "nbformat": 4,
 "nbformat_minor": 5
}
