{
 "cells": [
  {
   "cell_type": "code",
   "execution_count": 1,
   "id": "6adaad0d-5aaa-46ef-afc5-9f0b8436b9f8",
   "metadata": {},
   "outputs": [],
   "source": [
    "#Q1, Create a vehicle class with an init method having instance variables as name_of_vehicle, max_speed and average_of_vehicle."
   ]
  },
  {
   "cell_type": "code",
   "execution_count": 13,
   "id": "1c0b6cb5-09ce-4bff-8095-aa254121e41c",
   "metadata": {},
   "outputs": [],
   "source": [
    "class vehicle_class:\n",
    "    def __init__(self , name_vehicle, max_speed, average_of_vehicle ):\n",
    "        self.name_vehicle1=name_vehicle\n",
    "        self.max_speed1=max_speed\n",
    "        self.average_of_vehicle=average_of_vehicle\n",
    "    def return_value_vehicle(self):\n",
    "        return  self.name_vehicle1, self.max_speed1, self.average_of_vehicle\n",
    "         \n",
    "        \n",
    "        \n",
    "        \n",
    "        "
   ]
  },
  {
   "cell_type": "code",
   "execution_count": 14,
   "id": "18b53df0-7adf-4876-b52a-194a4005aee5",
   "metadata": {},
   "outputs": [],
   "source": [
    "car= vehicle_class(\"toyoto\", 180, 34)"
   ]
  },
  {
   "cell_type": "code",
   "execution_count": 12,
   "id": "372c62fb-7e28-4aee-a1ea-17545e4e1636",
   "metadata": {},
   "outputs": [
    {
     "data": {
      "text/plain": [
       "('toyoto', 180, 34)"
      ]
     },
     "execution_count": 12,
     "metadata": {},
     "output_type": "execute_result"
    }
   ],
   "source": [
    "car.return_value_vehicle()"
   ]
  },
  {
   "cell_type": "code",
   "execution_count": 15,
   "id": "f08d4107-8e77-4b62-95d7-7e5471af8578",
   "metadata": {},
   "outputs": [],
   "source": [
    "#Q2. Create a child class car from the vehicle class created in Que 1, which will inherit the vehicle class.\n",
    "#Create a method named seating_capacity which takes capacity as an argument and returns the name of\n",
    "#the vehicle and its seating capacity."
   ]
  },
  {
   "cell_type": "code",
   "execution_count": 161,
   "id": "e520f53a-23e9-48d2-a0e5-a2373c5fbcc3",
   "metadata": {},
   "outputs": [],
   "source": [
    "class vehicle_class:\n",
    "    def __init__(self , name_vehicle, max_speed, average_of_vehicle ):\n",
    "        self.name_vehicle1=name_vehicle\n",
    "        self.max_speed1=max_speed\n",
    "        self.average_of_vehicle=average_of_vehicle\n",
    "    def return_value_vehicle(self):\n",
    "        return  self.name_vehicle1, self.max_speed1, self.average_of_vehicle\n",
    "        \n",
    "           \n",
    "        \n",
    "class car(vehicle_class):\n",
    "    def seating_capacity(self , capacity):\n",
    "        self.capacity1=5\n",
    "    \n",
    "    def return_value_vehicle1(self):\n",
    "        return self.capacity1\n",
    "            \n",
    "        \n",
    "        \n",
    "    \n",
    "        \n",
    "        \n",
    "         \n",
    "        "
   ]
  },
  {
   "cell_type": "code",
   "execution_count": 148,
   "id": "6c5bb242-f5ed-4ca1-a5d2-316cf81298db",
   "metadata": {},
   "outputs": [],
   "source": [
    "car_show=vehicle_class(\"Toyota Camry\", 180, 25)"
   ]
  },
  {
   "cell_type": "code",
   "execution_count": 144,
   "id": "2af81d26-99ba-496b-8296-a57ee7617be3",
   "metadata": {},
   "outputs": [
    {
     "data": {
      "text/plain": [
       "('Toyota Camry', 180, 25)"
      ]
     },
     "execution_count": 144,
     "metadata": {},
     "output_type": "execute_result"
    }
   ],
   "source": [
    "car_show.return_value_vehicle()"
   ]
  },
  {
   "cell_type": "code",
   "execution_count": 153,
   "id": "d2bcf578-928a-49de-8504-807b87fc3fb7",
   "metadata": {},
   "outputs": [],
   "source": [
    "show=car(\"Toyota Camry\", 180, 25)"
   ]
  },
  {
   "cell_type": "code",
   "execution_count": 154,
   "id": "e2e6f9a3-d1ef-483f-863d-b3188c055456",
   "metadata": {},
   "outputs": [
    {
     "data": {
      "text/plain": [
       "('Toyota Camry', 180, 25)"
      ]
     },
     "execution_count": 154,
     "metadata": {},
     "output_type": "execute_result"
    }
   ],
   "source": [
    "show.return_value_vehicle()"
   ]
  },
  {
   "cell_type": "code",
   "execution_count": 165,
   "id": "1ae7d693-ad71-4401-bc02-1910f5a88536",
   "metadata": {},
   "outputs": [],
   "source": [
    "show.seating_capacity(5)"
   ]
  },
  {
   "cell_type": "code",
   "execution_count": 168,
   "id": "bba72198-fc50-4ddb-b546-4d068de967bb",
   "metadata": {},
   "outputs": [
    {
     "data": {
      "text/plain": [
       "5"
      ]
     },
     "execution_count": 168,
     "metadata": {},
     "output_type": "execute_result"
    }
   ],
   "source": [
    "show.return_value_vehicle1()"
   ]
  },
  {
   "cell_type": "code",
   "execution_count": 169,
   "id": "7814955e-7a52-497d-8eba-8a1678450f70",
   "metadata": {},
   "outputs": [],
   "source": [
    "#Q3. What is multiple inheritance? Write a python code to demonstrate multiple inheritance."
   ]
  },
  {
   "cell_type": "code",
   "execution_count": 176,
   "id": "a5c3da78-330e-4aaf-8358-42708ab9d056",
   "metadata": {},
   "outputs": [],
   "source": [
    "# Multiple inheritance is a feature in object-oriented programming where a class can inherit attributes and \n",
    "# methods from more than one parent class. \n",
    "# In Python, a subclass can inherit from multiple base classes, allowing it to combine the features of those classes.\n",
    "\n",
    "\n",
    "\n",
    "\n",
    "class class1:\n",
    "    def test_class1(self):\n",
    "        return \" this a class1\"\n",
    "    "
   ]
  },
  {
   "cell_type": "code",
   "execution_count": 171,
   "id": "78dea858-45eb-4dbd-9076-c155489fbb5d",
   "metadata": {},
   "outputs": [],
   "source": [
    "class class2:\n",
    "    def test_class2(self):\n",
    "        return \"this is class2\""
   ]
  },
  {
   "cell_type": "code",
   "execution_count": 172,
   "id": "68592add-81d6-473a-bb0a-b330e7b923c7",
   "metadata": {},
   "outputs": [],
   "source": [
    "class class3(class1 , class2):\n",
    "    pass"
   ]
  },
  {
   "cell_type": "code",
   "execution_count": 173,
   "id": "8566a0c8-3709-4f12-b9fb-b1ca976b081f",
   "metadata": {},
   "outputs": [],
   "source": [
    "obj_class3=class3()"
   ]
  },
  {
   "cell_type": "code",
   "execution_count": 174,
   "id": "644d4b24-715a-4f23-9215-ee3a85fe9868",
   "metadata": {},
   "outputs": [
    {
     "data": {
      "text/plain": [
       "' this a class1'"
      ]
     },
     "execution_count": 174,
     "metadata": {},
     "output_type": "execute_result"
    }
   ],
   "source": [
    "obj_class3.test_class1()"
   ]
  },
  {
   "cell_type": "code",
   "execution_count": 175,
   "id": "73b4aa87-abcb-4209-bdba-d5ce2c888334",
   "metadata": {},
   "outputs": [
    {
     "data": {
      "text/plain": [
       "'this is class2'"
      ]
     },
     "execution_count": 175,
     "metadata": {},
     "output_type": "execute_result"
    }
   ],
   "source": [
    "obj_class3.test_class2()"
   ]
  },
  {
   "cell_type": "code",
   "execution_count": 177,
   "id": "91f2e77c-29d0-467d-a7ba-1fff88d6f798",
   "metadata": {},
   "outputs": [],
   "source": [
    "#Q4. What are getter and setter in python? Create a class and create a getter and a setter method in this class."
   ]
  },
  {
   "cell_type": "code",
   "execution_count": 193,
   "id": "acb28fb3-f6fb-4902-a3b5-de4292832a17",
   "metadata": {},
   "outputs": [],
   "source": [
    "\n",
    "# Getter and setter methods are used in object-oriented programming to control access to the attributes of a class. \n",
    "# They provide a way to retrieve (getter) and modify (setter) the values of private attributes in a controlled manner, \n",
    "# allowing for better encapsulation and data abstraction.\n",
    "\n",
    "\n",
    "\n",
    "class bank_account:\n",
    "    def __init__(self , balance):\n",
    "        self.__balance1=balance\n",
    "    def deposite(self , amount):\n",
    "        self.__balance1=self.__balance1+amount\n",
    "    \n",
    "    def withdaw(self , amount ):\n",
    "        if self.__balance1>=amount:\n",
    "            self.__balance1=self.__balance1-amount\n",
    "            return True\n",
    "            \n",
    "        else:\n",
    "            return False\n",
    "        \n",
    "    def get_balance(self):\n",
    "            return self.__balance1\n",
    "            \n",
    "        \n",
    "    \n",
    "    "
   ]
  },
  {
   "cell_type": "code",
   "execution_count": 196,
   "id": "ac05d8b2-1ed2-45a2-a226-74c90284a533",
   "metadata": {},
   "outputs": [],
   "source": [
    "sukanya=bank_account(1000)"
   ]
  },
  {
   "cell_type": "code",
   "execution_count": 197,
   "id": "01470156-7c24-488d-822e-3aa753874639",
   "metadata": {},
   "outputs": [
    {
     "data": {
      "text/plain": [
       "1000"
      ]
     },
     "execution_count": 197,
     "metadata": {},
     "output_type": "execute_result"
    }
   ],
   "source": [
    "sukanya.get_balance() # getter method value return"
   ]
  },
  {
   "cell_type": "code",
   "execution_count": 198,
   "id": "c7f5d6c6-ec9e-43de-b972-a9c85235ed95",
   "metadata": {},
   "outputs": [],
   "source": [
    "sukanya.deposite(7888) # setter method value will given"
   ]
  },
  {
   "cell_type": "code",
   "execution_count": 199,
   "id": "55a77c83-ef55-4c14-8c86-cc4f17973e01",
   "metadata": {},
   "outputs": [
    {
     "data": {
      "text/plain": [
       "8888"
      ]
     },
     "execution_count": 199,
     "metadata": {},
     "output_type": "execute_result"
    }
   ],
   "source": [
    "sukanya.get_balance()"
   ]
  },
  {
   "cell_type": "code",
   "execution_count": 200,
   "id": "f3b23f70-355f-4219-bbcf-b629cf3e5120",
   "metadata": {},
   "outputs": [
    {
     "data": {
      "text/plain": [
       "True"
      ]
     },
     "execution_count": 200,
     "metadata": {},
     "output_type": "execute_result"
    }
   ],
   "source": [
    "sukanya.withdaw(800)"
   ]
  },
  {
   "cell_type": "code",
   "execution_count": 201,
   "id": "a2041d92-0c0a-45e6-a1d9-30876e0fa682",
   "metadata": {},
   "outputs": [
    {
     "data": {
      "text/plain": [
       "8088"
      ]
     },
     "execution_count": 201,
     "metadata": {},
     "output_type": "execute_result"
    }
   ],
   "source": [
    "sukanya.get_balance()"
   ]
  },
  {
   "cell_type": "code",
   "execution_count": 202,
   "id": "1a0a96ac-2443-467a-83d8-69fda5d3e740",
   "metadata": {},
   "outputs": [],
   "source": [
    "#Q5.What is method overriding in python? Write a python code to demonstrate method overriding."
   ]
  },
  {
   "cell_type": "code",
   "execution_count": 214,
   "id": "2a456197-f61a-480c-ada5-b838d73a85e4",
   "metadata": {},
   "outputs": [],
   "source": [
    "\n",
    "\n",
    "# Method overriding is a concept in object-oriented programming where a subclass provides a specific implementation of a method that is already defined in its superclass.\n",
    "# The purpose of method overriding is to change or extend the behavior of the method inherited from the superclass.\n",
    "\n",
    "\n",
    "\n",
    "\n",
    "\n",
    "\n",
    "\n",
    "class Animal:\n",
    "    def make_sound(self):\n",
    "        return \"Generic sound\"\n",
    "\n",
    "class Dog(Animal):\n",
    "    def make_sound(self):\n",
    "        return \"Woof!\"\n",
    "\n",
    "class Cat(Animal):\n",
    "    def make_sound(self):\n",
    "        return \"Meow!\"\n",
    "\n",
    "\n"
   ]
  },
  {
   "cell_type": "code",
   "execution_count": 205,
   "id": "cb3cb7fc-b120-49fb-a6ca-597f69a95fa9",
   "metadata": {},
   "outputs": [],
   "source": [
    "dog=Dog()"
   ]
  },
  {
   "cell_type": "code",
   "execution_count": 206,
   "id": "aee4f348-5599-4333-87e3-8809a0931fbc",
   "metadata": {},
   "outputs": [
    {
     "data": {
      "text/plain": [
       "'Woof!'"
      ]
     },
     "execution_count": 206,
     "metadata": {},
     "output_type": "execute_result"
    }
   ],
   "source": [
    "dog.make_sound()"
   ]
  },
  {
   "cell_type": "code",
   "execution_count": 208,
   "id": "1db54b5c-e39e-44ff-9634-4170a743cab1",
   "metadata": {},
   "outputs": [],
   "source": [
    "cat2=Animal()"
   ]
  },
  {
   "cell_type": "code",
   "execution_count": 209,
   "id": "d5f32697-72cc-4e9b-a5a1-a0650098be4e",
   "metadata": {},
   "outputs": [
    {
     "data": {
      "text/plain": [
       "'Generic sound'"
      ]
     },
     "execution_count": 209,
     "metadata": {},
     "output_type": "execute_result"
    }
   ],
   "source": [
    "cat2.make_sound()"
   ]
  },
  {
   "cell_type": "code",
   "execution_count": 212,
   "id": "d25b7db7-16ac-4b82-9ac1-c9821964ffc8",
   "metadata": {},
   "outputs": [],
   "source": [
    "cat3=Cat()"
   ]
  },
  {
   "cell_type": "code",
   "execution_count": 213,
   "id": "92a40fee-cab7-4277-93da-ed51549915aa",
   "metadata": {},
   "outputs": [
    {
     "data": {
      "text/plain": [
       "'Meow!'"
      ]
     },
     "execution_count": 213,
     "metadata": {},
     "output_type": "execute_result"
    }
   ],
   "source": [
    "cat3.make_sound()"
   ]
  },
  {
   "cell_type": "code",
   "execution_count": null,
   "id": "512f61bd-dca1-4ecc-9f62-8cd458bd13a7",
   "metadata": {},
   "outputs": [],
   "source": []
  }
 ],
 "metadata": {
  "kernelspec": {
   "display_name": "Python 3 (ipykernel)",
   "language": "python",
   "name": "python3"
  },
  "language_info": {
   "codemirror_mode": {
    "name": "ipython",
    "version": 3
   },
   "file_extension": ".py",
   "mimetype": "text/x-python",
   "name": "python",
   "nbconvert_exporter": "python",
   "pygments_lexer": "ipython3",
   "version": "3.10.8"
  }
 },
 "nbformat": 4,
 "nbformat_minor": 5
}
